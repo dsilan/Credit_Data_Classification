{
  "nbformat": 4,
  "nbformat_minor": 0,
  "metadata": {
    "kernelspec": {
      "display_name": "Python 3",
      "language": "python",
      "name": "python3"
    },
    "language_info": {
      "codemirror_mode": {
        "name": "ipython",
        "version": 3
      },
      "file_extension": ".py",
      "mimetype": "text/x-python",
      "name": "python",
      "nbconvert_exporter": "python",
      "pygments_lexer": "ipython3",
      "version": "3.7.5"
    },
    "colab": {
      "name": "Credit_Data_Classification.ipynb",
      "provenance": [],
      "collapsed_sections": []
    }
  },
  "cells": [
    {
      "cell_type": "code",
      "metadata": {
        "id": "_1FqGMM85EqH",
        "colab_type": "code",
        "colab": {}
      },
      "source": [
        "import pandas as pd\n",
        "import numpy as np\n",
        "import matplotlib\n",
        "import matplotlib.pyplot as plt\n",
        "import seaborn as sns\n",
        "import io\n",
        "from pandas.plotting import scatter_matrix\n",
        "from sklearn import model_selection\n",
        "from sklearn.discriminant_analysis import LinearDiscriminantAnalysis\n",
        "from sklearn.linear_model import LogisticRegression\n",
        "from sklearn.metrics import accuracy_score\n",
        "from sklearn.metrics import classification_report\n",
        "from sklearn.metrics import confusion_matrix\n",
        "from sklearn.naive_bayes import GaussianNB\n",
        "from sklearn.neighbors import KNeighborsClassifier\n",
        "from sklearn.svm import SVC\n",
        "from sklearn.tree import DecisionTreeClassifier\n",
        "from matplotlib.ticker import FormatStrFormatter\n",
        "import matplotlib.ticker as ticker\n",
        "import scipy.stats as stats\n",
        "from google.colab import files\n",
        " "
      ],
      "execution_count": 0,
      "outputs": []
    },
    {
      "cell_type": "code",
      "metadata": {
        "id": "mOEeuixo5M0d",
        "colab_type": "code",
        "outputId": "cc4ce2f8-ae37-4cd0-f91d-9312dad29897",
        "colab": {
          "resources": {
            "http://localhost:8080/nbextensions/google.colab/files.js": {
              "data": "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",
              "ok": true,
              "headers": [
                [
                  "content-type",
                  "application/javascript"
                ]
              ],
              "status": 200,
              "status_text": ""
            }
          },
          "base_uri": "https://localhost:8080/",
          "height": 74
        }
      },
      "source": [
        "uploaded = files.upload()"
      ],
      "execution_count": 2,
      "outputs": [
        {
          "output_type": "display_data",
          "data": {
            "text/html": [
              "\n",
              "     <input type=\"file\" id=\"files-c0a299e5-396c-46ad-917b-f625a019e952\" name=\"files[]\" multiple disabled />\n",
              "     <output id=\"result-c0a299e5-396c-46ad-917b-f625a019e952\">\n",
              "      Upload widget is only available when the cell has been executed in the\n",
              "      current browser session. Please rerun this cell to enable.\n",
              "      </output>\n",
              "      <script src=\"/nbextensions/google.colab/files.js\"></script> "
            ],
            "text/plain": [
              "<IPython.core.display.HTML object>"
            ]
          },
          "metadata": {
            "tags": []
          }
        },
        {
          "output_type": "stream",
          "text": [
            "Saving hmeq.csv to hmeq.csv\n"
          ],
          "name": "stdout"
        }
      ]
    },
    {
      "cell_type": "code",
      "metadata": {
        "id": "6y6_1i3p5EqO",
        "colab_type": "code",
        "outputId": "90516cee-d91a-42aa-a81f-2e6d50c33f13",
        "colab": {
          "base_uri": "https://localhost:8080/",
          "height": 252
        }
      },
      "source": [
        "csv = pd.read_csv('hmeq.csv')\n",
        "data = csv.copy()\n",
        "data.count()"
      ],
      "execution_count": 3,
      "outputs": [
        {
          "output_type": "execute_result",
          "data": {
            "text/plain": [
              "BAD        5960\n",
              "LOAN       5960\n",
              "MORTDUE    5442\n",
              "VALUE      5848\n",
              "REASON     5708\n",
              "JOB        5681\n",
              "YOJ        5445\n",
              "DEROG      5252\n",
              "DELINQ     5380\n",
              "CLAGE      5652\n",
              "NINQ       5450\n",
              "CLNO       5738\n",
              "DEBTINC    4693\n",
              "dtype: int64"
            ]
          },
          "metadata": {
            "tags": []
          },
          "execution_count": 3
        }
      ]
    },
    {
      "cell_type": "code",
      "metadata": {
        "id": "Ct939wGw5EqS",
        "colab_type": "code",
        "outputId": "4a898178-210d-4038-f311-e27f0fb1f670",
        "colab": {
          "base_uri": "https://localhost:8080/",
          "height": 195
        }
      },
      "source": [
        "data.head()"
      ],
      "execution_count": 4,
      "outputs": [
        {
          "output_type": "execute_result",
          "data": {
            "text/html": [
              "<div>\n",
              "<style scoped>\n",
              "    .dataframe tbody tr th:only-of-type {\n",
              "        vertical-align: middle;\n",
              "    }\n",
              "\n",
              "    .dataframe tbody tr th {\n",
              "        vertical-align: top;\n",
              "    }\n",
              "\n",
              "    .dataframe thead th {\n",
              "        text-align: right;\n",
              "    }\n",
              "</style>\n",
              "<table border=\"1\" class=\"dataframe\">\n",
              "  <thead>\n",
              "    <tr style=\"text-align: right;\">\n",
              "      <th></th>\n",
              "      <th>BAD</th>\n",
              "      <th>LOAN</th>\n",
              "      <th>MORTDUE</th>\n",
              "      <th>VALUE</th>\n",
              "      <th>REASON</th>\n",
              "      <th>JOB</th>\n",
              "      <th>YOJ</th>\n",
              "      <th>DEROG</th>\n",
              "      <th>DELINQ</th>\n",
              "      <th>CLAGE</th>\n",
              "      <th>NINQ</th>\n",
              "      <th>CLNO</th>\n",
              "      <th>DEBTINC</th>\n",
              "    </tr>\n",
              "  </thead>\n",
              "  <tbody>\n",
              "    <tr>\n",
              "      <th>0</th>\n",
              "      <td>1</td>\n",
              "      <td>1100</td>\n",
              "      <td>25860.0</td>\n",
              "      <td>39025.0</td>\n",
              "      <td>HomeImp</td>\n",
              "      <td>Other</td>\n",
              "      <td>10.5</td>\n",
              "      <td>0.0</td>\n",
              "      <td>0.0</td>\n",
              "      <td>94.366667</td>\n",
              "      <td>1.0</td>\n",
              "      <td>9.0</td>\n",
              "      <td>NaN</td>\n",
              "    </tr>\n",
              "    <tr>\n",
              "      <th>1</th>\n",
              "      <td>1</td>\n",
              "      <td>1300</td>\n",
              "      <td>70053.0</td>\n",
              "      <td>68400.0</td>\n",
              "      <td>HomeImp</td>\n",
              "      <td>Other</td>\n",
              "      <td>7.0</td>\n",
              "      <td>0.0</td>\n",
              "      <td>2.0</td>\n",
              "      <td>121.833333</td>\n",
              "      <td>0.0</td>\n",
              "      <td>14.0</td>\n",
              "      <td>NaN</td>\n",
              "    </tr>\n",
              "    <tr>\n",
              "      <th>2</th>\n",
              "      <td>1</td>\n",
              "      <td>1500</td>\n",
              "      <td>13500.0</td>\n",
              "      <td>16700.0</td>\n",
              "      <td>HomeImp</td>\n",
              "      <td>Other</td>\n",
              "      <td>4.0</td>\n",
              "      <td>0.0</td>\n",
              "      <td>0.0</td>\n",
              "      <td>149.466667</td>\n",
              "      <td>1.0</td>\n",
              "      <td>10.0</td>\n",
              "      <td>NaN</td>\n",
              "    </tr>\n",
              "    <tr>\n",
              "      <th>3</th>\n",
              "      <td>1</td>\n",
              "      <td>1500</td>\n",
              "      <td>NaN</td>\n",
              "      <td>NaN</td>\n",
              "      <td>NaN</td>\n",
              "      <td>NaN</td>\n",
              "      <td>NaN</td>\n",
              "      <td>NaN</td>\n",
              "      <td>NaN</td>\n",
              "      <td>NaN</td>\n",
              "      <td>NaN</td>\n",
              "      <td>NaN</td>\n",
              "      <td>NaN</td>\n",
              "    </tr>\n",
              "    <tr>\n",
              "      <th>4</th>\n",
              "      <td>0</td>\n",
              "      <td>1700</td>\n",
              "      <td>97800.0</td>\n",
              "      <td>112000.0</td>\n",
              "      <td>HomeImp</td>\n",
              "      <td>Office</td>\n",
              "      <td>3.0</td>\n",
              "      <td>0.0</td>\n",
              "      <td>0.0</td>\n",
              "      <td>93.333333</td>\n",
              "      <td>0.0</td>\n",
              "      <td>14.0</td>\n",
              "      <td>NaN</td>\n",
              "    </tr>\n",
              "  </tbody>\n",
              "</table>\n",
              "</div>"
            ],
            "text/plain": [
              "   BAD  LOAN  MORTDUE     VALUE  ...       CLAGE NINQ  CLNO  DEBTINC\n",
              "0    1  1100  25860.0   39025.0  ...   94.366667  1.0   9.0      NaN\n",
              "1    1  1300  70053.0   68400.0  ...  121.833333  0.0  14.0      NaN\n",
              "2    1  1500  13500.0   16700.0  ...  149.466667  1.0  10.0      NaN\n",
              "3    1  1500      NaN       NaN  ...         NaN  NaN   NaN      NaN\n",
              "4    0  1700  97800.0  112000.0  ...   93.333333  0.0  14.0      NaN\n",
              "\n",
              "[5 rows x 13 columns]"
            ]
          },
          "metadata": {
            "tags": []
          },
          "execution_count": 4
        }
      ]
    },
    {
      "cell_type": "code",
      "metadata": {
        "id": "lz346AKu5Eqc",
        "colab_type": "code",
        "outputId": "628abd32-32cc-460c-994f-15d8367bdbbf",
        "colab": {
          "base_uri": "https://localhost:8080/",
          "height": 319
        }
      },
      "source": [
        "data.info()"
      ],
      "execution_count": 5,
      "outputs": [
        {
          "output_type": "stream",
          "text": [
            "<class 'pandas.core.frame.DataFrame'>\n",
            "RangeIndex: 5960 entries, 0 to 5959\n",
            "Data columns (total 13 columns):\n",
            "BAD        5960 non-null int64\n",
            "LOAN       5960 non-null int64\n",
            "MORTDUE    5442 non-null float64\n",
            "VALUE      5848 non-null float64\n",
            "REASON     5708 non-null object\n",
            "JOB        5681 non-null object\n",
            "YOJ        5445 non-null float64\n",
            "DEROG      5252 non-null float64\n",
            "DELINQ     5380 non-null float64\n",
            "CLAGE      5652 non-null float64\n",
            "NINQ       5450 non-null float64\n",
            "CLNO       5738 non-null float64\n",
            "DEBTINC    4693 non-null float64\n",
            "dtypes: float64(9), int64(2), object(2)\n",
            "memory usage: 605.4+ KB\n"
          ],
          "name": "stdout"
        }
      ]
    },
    {
      "cell_type": "code",
      "metadata": {
        "id": "RtwYmEvU5Eqg",
        "colab_type": "code",
        "outputId": "1022917f-2913-4941-de32-8f5c0c6b51d9",
        "colab": {
          "base_uri": "https://localhost:8080/",
          "height": 1000
        }
      },
      "source": [
        "for i in data.columns: \n",
        "    print (data[i].value_counts())\n",
        "    print(\"--------\")"
      ],
      "execution_count": 7,
      "outputs": [
        {
          "output_type": "stream",
          "text": [
            "0    4771\n",
            "1    1189\n",
            "Name: BAD, dtype: int64\n",
            "--------\n",
            "15000    105\n",
            "10000     81\n",
            "20000     74\n",
            "25000     73\n",
            "12000     69\n",
            "        ... \n",
            "59700      1\n",
            "47100      1\n",
            "79900      1\n",
            "59500      1\n",
            "65500      1\n",
            "Name: LOAN, Length: 540, dtype: int64\n",
            "--------\n",
            "42000.0     11\n",
            "47000.0     10\n",
            "65000.0      9\n",
            "55000.0      7\n",
            "50000.0      7\n",
            "            ..\n",
            "96049.0      1\n",
            "183615.0     1\n",
            "52622.0      1\n",
            "132417.0     1\n",
            "4000.0       1\n",
            "Name: MORTDUE, Length: 5053, dtype: int64\n",
            "--------\n",
            "60000.0    15\n",
            "80000.0    14\n",
            "85000.0    12\n",
            "65000.0    11\n",
            "78000.0    10\n",
            "           ..\n",
            "65054.0     1\n",
            "84519.0     1\n",
            "64850.0     1\n",
            "65040.0     1\n",
            "76207.0     1\n",
            "Name: VALUE, Length: 5381, dtype: int64\n",
            "--------\n",
            "DebtCon    3928\n",
            "HomeImp    1780\n",
            "Name: REASON, dtype: int64\n",
            "--------\n",
            "Other      2388\n",
            "ProfExe    1276\n",
            "Office      948\n",
            "Mgr         767\n",
            "Self        193\n",
            "Sales       109\n",
            "Name: JOB, dtype: int64\n",
            "--------\n",
            "0.00     415\n",
            "1.00     363\n",
            "2.00     347\n",
            "5.00     333\n",
            "4.00     324\n",
            "        ... \n",
            "4.60       1\n",
            "17.80      1\n",
            "0.25       1\n",
            "5.60       1\n",
            "6.60       1\n",
            "Name: YOJ, Length: 99, dtype: int64\n",
            "--------\n",
            "0.0     4527\n",
            "1.0      435\n",
            "2.0      160\n",
            "3.0       58\n",
            "4.0       23\n",
            "6.0       15\n",
            "5.0       15\n",
            "7.0        8\n",
            "8.0        6\n",
            "9.0        3\n",
            "10.0       2\n",
            "Name: DEROG, dtype: int64\n",
            "--------\n",
            "0.0     4179\n",
            "1.0      654\n",
            "2.0      250\n",
            "3.0      129\n",
            "4.0       78\n",
            "5.0       38\n",
            "6.0       27\n",
            "7.0       13\n",
            "8.0        5\n",
            "11.0       2\n",
            "10.0       2\n",
            "13.0       1\n",
            "12.0       1\n",
            "15.0       1\n",
            "Name: DELINQ, dtype: int64\n",
            "--------\n",
            "102.500000    7\n",
            "206.966667    7\n",
            "109.566667    6\n",
            "95.366667     6\n",
            "123.766667    6\n",
            "             ..\n",
            "163.283933    1\n",
            "165.077847    1\n",
            "239.457118    1\n",
            "81.133333     1\n",
            "123.000000    1\n",
            "Name: CLAGE, Length: 5314, dtype: int64\n",
            "--------\n",
            "0.0     2531\n",
            "1.0     1339\n",
            "2.0      780\n",
            "3.0      392\n",
            "4.0      156\n",
            "5.0       75\n",
            "6.0       56\n",
            "7.0       44\n",
            "10.0      28\n",
            "8.0       22\n",
            "9.0       11\n",
            "11.0      10\n",
            "13.0       2\n",
            "12.0       2\n",
            "17.0       1\n",
            "14.0       1\n",
            "Name: NINQ, dtype: int64\n",
            "--------\n",
            "16.0    316\n",
            "19.0    307\n",
            "24.0    264\n",
            "23.0    259\n",
            "21.0    235\n",
            "       ... \n",
            "58.0      3\n",
            "53.0      2\n",
            "71.0      2\n",
            "63.0      1\n",
            "57.0      1\n",
            "Name: CLNO, Length: 62, dtype: int64\n",
            "--------\n",
            "39.791199    1\n",
            "41.256795    1\n",
            "23.112290    1\n",
            "39.918790    1\n",
            "30.857067    1\n",
            "            ..\n",
            "24.187934    1\n",
            "29.633608    1\n",
            "30.553005    1\n",
            "38.682676    1\n",
            "36.010892    1\n",
            "Name: DEBTINC, Length: 4693, dtype: int64\n",
            "--------\n"
          ],
          "name": "stdout"
        }
      ]
    },
    {
      "cell_type": "code",
      "metadata": {
        "id": "pAk28ji35Eqk",
        "colab_type": "code",
        "outputId": "1ee96104-6d64-40ff-8990-a54ba86d9d68",
        "colab": {
          "base_uri": "https://localhost:8080/",
          "height": 373
        }
      },
      "source": [
        "data.describe().T"
      ],
      "execution_count": 8,
      "outputs": [
        {
          "output_type": "execute_result",
          "data": {
            "text/html": [
              "<div>\n",
              "<style scoped>\n",
              "    .dataframe tbody tr th:only-of-type {\n",
              "        vertical-align: middle;\n",
              "    }\n",
              "\n",
              "    .dataframe tbody tr th {\n",
              "        vertical-align: top;\n",
              "    }\n",
              "\n",
              "    .dataframe thead th {\n",
              "        text-align: right;\n",
              "    }\n",
              "</style>\n",
              "<table border=\"1\" class=\"dataframe\">\n",
              "  <thead>\n",
              "    <tr style=\"text-align: right;\">\n",
              "      <th></th>\n",
              "      <th>count</th>\n",
              "      <th>mean</th>\n",
              "      <th>std</th>\n",
              "      <th>min</th>\n",
              "      <th>25%</th>\n",
              "      <th>50%</th>\n",
              "      <th>75%</th>\n",
              "      <th>max</th>\n",
              "    </tr>\n",
              "  </thead>\n",
              "  <tbody>\n",
              "    <tr>\n",
              "      <th>BAD</th>\n",
              "      <td>5960.0</td>\n",
              "      <td>0.199497</td>\n",
              "      <td>0.399656</td>\n",
              "      <td>0.000000</td>\n",
              "      <td>0.000000</td>\n",
              "      <td>0.000000</td>\n",
              "      <td>0.000000</td>\n",
              "      <td>1.000000</td>\n",
              "    </tr>\n",
              "    <tr>\n",
              "      <th>LOAN</th>\n",
              "      <td>5960.0</td>\n",
              "      <td>18607.969799</td>\n",
              "      <td>11207.480417</td>\n",
              "      <td>1100.000000</td>\n",
              "      <td>11100.000000</td>\n",
              "      <td>16300.000000</td>\n",
              "      <td>23300.000000</td>\n",
              "      <td>89900.000000</td>\n",
              "    </tr>\n",
              "    <tr>\n",
              "      <th>MORTDUE</th>\n",
              "      <td>5442.0</td>\n",
              "      <td>73760.817200</td>\n",
              "      <td>44457.609458</td>\n",
              "      <td>2063.000000</td>\n",
              "      <td>46276.000000</td>\n",
              "      <td>65019.000000</td>\n",
              "      <td>91488.000000</td>\n",
              "      <td>399550.000000</td>\n",
              "    </tr>\n",
              "    <tr>\n",
              "      <th>VALUE</th>\n",
              "      <td>5848.0</td>\n",
              "      <td>101776.048741</td>\n",
              "      <td>57385.775334</td>\n",
              "      <td>8000.000000</td>\n",
              "      <td>66075.500000</td>\n",
              "      <td>89235.500000</td>\n",
              "      <td>119824.250000</td>\n",
              "      <td>855909.000000</td>\n",
              "    </tr>\n",
              "    <tr>\n",
              "      <th>YOJ</th>\n",
              "      <td>5445.0</td>\n",
              "      <td>8.922268</td>\n",
              "      <td>7.573982</td>\n",
              "      <td>0.000000</td>\n",
              "      <td>3.000000</td>\n",
              "      <td>7.000000</td>\n",
              "      <td>13.000000</td>\n",
              "      <td>41.000000</td>\n",
              "    </tr>\n",
              "    <tr>\n",
              "      <th>DEROG</th>\n",
              "      <td>5252.0</td>\n",
              "      <td>0.254570</td>\n",
              "      <td>0.846047</td>\n",
              "      <td>0.000000</td>\n",
              "      <td>0.000000</td>\n",
              "      <td>0.000000</td>\n",
              "      <td>0.000000</td>\n",
              "      <td>10.000000</td>\n",
              "    </tr>\n",
              "    <tr>\n",
              "      <th>DELINQ</th>\n",
              "      <td>5380.0</td>\n",
              "      <td>0.449442</td>\n",
              "      <td>1.127266</td>\n",
              "      <td>0.000000</td>\n",
              "      <td>0.000000</td>\n",
              "      <td>0.000000</td>\n",
              "      <td>0.000000</td>\n",
              "      <td>15.000000</td>\n",
              "    </tr>\n",
              "    <tr>\n",
              "      <th>CLAGE</th>\n",
              "      <td>5652.0</td>\n",
              "      <td>179.766275</td>\n",
              "      <td>85.810092</td>\n",
              "      <td>0.000000</td>\n",
              "      <td>115.116702</td>\n",
              "      <td>173.466667</td>\n",
              "      <td>231.562278</td>\n",
              "      <td>1168.233561</td>\n",
              "    </tr>\n",
              "    <tr>\n",
              "      <th>NINQ</th>\n",
              "      <td>5450.0</td>\n",
              "      <td>1.186055</td>\n",
              "      <td>1.728675</td>\n",
              "      <td>0.000000</td>\n",
              "      <td>0.000000</td>\n",
              "      <td>1.000000</td>\n",
              "      <td>2.000000</td>\n",
              "      <td>17.000000</td>\n",
              "    </tr>\n",
              "    <tr>\n",
              "      <th>CLNO</th>\n",
              "      <td>5738.0</td>\n",
              "      <td>21.296096</td>\n",
              "      <td>10.138933</td>\n",
              "      <td>0.000000</td>\n",
              "      <td>15.000000</td>\n",
              "      <td>20.000000</td>\n",
              "      <td>26.000000</td>\n",
              "      <td>71.000000</td>\n",
              "    </tr>\n",
              "    <tr>\n",
              "      <th>DEBTINC</th>\n",
              "      <td>4693.0</td>\n",
              "      <td>33.779915</td>\n",
              "      <td>8.601746</td>\n",
              "      <td>0.524499</td>\n",
              "      <td>29.140031</td>\n",
              "      <td>34.818262</td>\n",
              "      <td>39.003141</td>\n",
              "      <td>203.312149</td>\n",
              "    </tr>\n",
              "  </tbody>\n",
              "</table>\n",
              "</div>"
            ],
            "text/plain": [
              "          count           mean  ...            75%            max\n",
              "BAD      5960.0       0.199497  ...       0.000000       1.000000\n",
              "LOAN     5960.0   18607.969799  ...   23300.000000   89900.000000\n",
              "MORTDUE  5442.0   73760.817200  ...   91488.000000  399550.000000\n",
              "VALUE    5848.0  101776.048741  ...  119824.250000  855909.000000\n",
              "YOJ      5445.0       8.922268  ...      13.000000      41.000000\n",
              "DEROG    5252.0       0.254570  ...       0.000000      10.000000\n",
              "DELINQ   5380.0       0.449442  ...       0.000000      15.000000\n",
              "CLAGE    5652.0     179.766275  ...     231.562278    1168.233561\n",
              "NINQ     5450.0       1.186055  ...       2.000000      17.000000\n",
              "CLNO     5738.0      21.296096  ...      26.000000      71.000000\n",
              "DEBTINC  4693.0      33.779915  ...      39.003141     203.312149\n",
              "\n",
              "[11 rows x 8 columns]"
            ]
          },
          "metadata": {
            "tags": []
          },
          "execution_count": 8
        }
      ]
    },
    {
      "cell_type": "code",
      "metadata": {
        "id": "GnIv-UIV5Eqo",
        "colab_type": "code",
        "colab": {}
      },
      "source": [
        "def MissingUniqueStatistics(df):\n",
        "\n",
        "    import io\n",
        "    import pandas as pd\n",
        "    \n",
        "    import psutil, os, gc, time\n",
        "    print(\"MissingUniqueStatistics process has began:\\n\")\n",
        "    proc = psutil.Process(os.getpid())\n",
        "    gc.collect()\n",
        "    mem_0 = proc.memory_info().rss\n",
        "    start_time = time.time()\n",
        "\n",
        "    entry_lenght_list = []\n",
        "    variable_name_list = []\n",
        "    total_entry_list = []\n",
        "    missing_value_number_list = []\n",
        "    missing_value_ratio_list = []\n",
        "    data_type_list = []\n",
        "    unique_values_list = []\n",
        "    number_of_unique_values_list = []\n",
        "\n",
        "    for col in df.columns:\n",
        "\n",
        "        buf = io.StringIO()\n",
        "        df[[col]].info(buf=buf)\n",
        "        data_info = buf.getvalue().split('\\n') #converting to a string object done\n",
        "        entry_lenght = int(data_info[1].split(' ')[1])\n",
        "        variable_name = data_info[3].split(' ')[0]\n",
        "        total_entry = int(data_info[3].split('    ')[1].split(' ')[0])\n",
        "        missing_value_number = entry_lenght - total_entry\n",
        "        missing_value_ratio = round(float(missing_value_number/entry_lenght),4)\n",
        "        data_type = data_info[3].split('    ')[1].split(' ')[2]\n",
        "\n",
        "        number_of_unique_values = len(df[col].unique())\n",
        "        unique_values = df[col].unique()\n",
        "\n",
        "        entry_lenght_list.append(entry_lenght)\n",
        "        variable_name_list.append(variable_name)\n",
        "        total_entry_list.append(total_entry)\n",
        "        missing_value_number_list.append(missing_value_number)\n",
        "        missing_value_ratio_list.append(missing_value_ratio)\n",
        "        data_type_list.append(data_type)\n",
        "        unique_values_list.append(unique_values)\n",
        "        number_of_unique_values_list.append(number_of_unique_values)\n",
        "\n",
        "    data_info_df = pd.DataFrame({'Variable': variable_name_list, '#_Total_Entry':total_entry_list,\\\n",
        "                                 '#_Missing_Value': missing_value_number_list,'%_Missing_Value':missing_value_ratio_list,\\\n",
        "                                 'Data_Type': data_type_list, 'Unique_Values': unique_values_list,\\\n",
        "                                 '#_Unique_Values':number_of_unique_values_list})\n",
        "    \n",
        "    print('MissingUniqueStatistics process has been completed!')\n",
        "    print(\"--- in %s minutes ---\" % ((time.time() - start_time)/60))\n",
        "\n",
        "    return data_info_df.sort_values(by='%_Missing_Value', ascending=False)"
      ],
      "execution_count": 0,
      "outputs": []
    },
    {
      "cell_type": "code",
      "metadata": {
        "id": "6HYVCnGu5Eqr",
        "colab_type": "code",
        "outputId": "a53077eb-a02c-4938-bbce-c556c1954bcd",
        "colab": {
          "base_uri": "https://localhost:8080/",
          "height": 84
        }
      },
      "source": [
        "data_analysis = MissingUniqueStatistics(data)"
      ],
      "execution_count": 10,
      "outputs": [
        {
          "output_type": "stream",
          "text": [
            "MissingUniqueStatistics process has began:\n",
            "\n",
            "MissingUniqueStatistics process has been completed!\n",
            "--- in 0.0008286237716674805 minutes ---\n"
          ],
          "name": "stdout"
        }
      ]
    },
    {
      "cell_type": "code",
      "metadata": {
        "id": "nkqPXx0n5Eqv",
        "colab_type": "code",
        "outputId": "1fc01ed6-f2e2-4880-8767-1d7690a9b79e",
        "colab": {
          "base_uri": "https://localhost:8080/",
          "height": 462
        }
      },
      "source": [
        "data_analysis['Index'] = range(1, len(data_analysis.index)+1)\n",
        "data_analysis.set_index(\"Index\", inplace=True)\n",
        "data_analysis"
      ],
      "execution_count": 11,
      "outputs": [
        {
          "output_type": "execute_result",
          "data": {
            "text/html": [
              "<div>\n",
              "<style scoped>\n",
              "    .dataframe tbody tr th:only-of-type {\n",
              "        vertical-align: middle;\n",
              "    }\n",
              "\n",
              "    .dataframe tbody tr th {\n",
              "        vertical-align: top;\n",
              "    }\n",
              "\n",
              "    .dataframe thead th {\n",
              "        text-align: right;\n",
              "    }\n",
              "</style>\n",
              "<table border=\"1\" class=\"dataframe\">\n",
              "  <thead>\n",
              "    <tr style=\"text-align: right;\">\n",
              "      <th></th>\n",
              "      <th>Variable</th>\n",
              "      <th>#_Total_Entry</th>\n",
              "      <th>#_Missing_Value</th>\n",
              "      <th>%_Missing_Value</th>\n",
              "      <th>Data_Type</th>\n",
              "      <th>Unique_Values</th>\n",
              "      <th>#_Unique_Values</th>\n",
              "    </tr>\n",
              "    <tr>\n",
              "      <th>Index</th>\n",
              "      <th></th>\n",
              "      <th></th>\n",
              "      <th></th>\n",
              "      <th></th>\n",
              "      <th></th>\n",
              "      <th></th>\n",
              "      <th></th>\n",
              "    </tr>\n",
              "  </thead>\n",
              "  <tbody>\n",
              "    <tr>\n",
              "      <th>1</th>\n",
              "      <td>DEBTINC</td>\n",
              "      <td>4693</td>\n",
              "      <td>1267</td>\n",
              "      <td>0.2126</td>\n",
              "      <td>float64</td>\n",
              "      <td>[nan, 37.113613558000004, 36.884894093, 3.7113...</td>\n",
              "      <td>4694</td>\n",
              "    </tr>\n",
              "    <tr>\n",
              "      <th>2</th>\n",
              "      <td>DEROG</td>\n",
              "      <td>5252</td>\n",
              "      <td>708</td>\n",
              "      <td>0.1188</td>\n",
              "      <td>float64</td>\n",
              "      <td>[0.0, nan, 3.0, 2.0, 1.0, 4.0, 5.0, 6.0, 7.0, ...</td>\n",
              "      <td>12</td>\n",
              "    </tr>\n",
              "    <tr>\n",
              "      <th>3</th>\n",
              "      <td>DELINQ</td>\n",
              "      <td>5380</td>\n",
              "      <td>580</td>\n",
              "      <td>0.0973</td>\n",
              "      <td>float64</td>\n",
              "      <td>[0.0, 2.0, nan, 1.0, 6.0, 15.0, 4.0, 3.0, 5.0,...</td>\n",
              "      <td>15</td>\n",
              "    </tr>\n",
              "    <tr>\n",
              "      <th>4</th>\n",
              "      <td>MORTDUE</td>\n",
              "      <td>5442</td>\n",
              "      <td>518</td>\n",
              "      <td>0.0869</td>\n",
              "      <td>float64</td>\n",
              "      <td>[25860.0, 70053.0, 13500.0, nan, 97800.0, 3054...</td>\n",
              "      <td>5054</td>\n",
              "    </tr>\n",
              "    <tr>\n",
              "      <th>5</th>\n",
              "      <td>YOJ</td>\n",
              "      <td>5445</td>\n",
              "      <td>515</td>\n",
              "      <td>0.0864</td>\n",
              "      <td>float64</td>\n",
              "      <td>[10.5, 7.0, 4.0, nan, 3.0, 9.0, 5.0, 11.0, 16....</td>\n",
              "      <td>100</td>\n",
              "    </tr>\n",
              "    <tr>\n",
              "      <th>6</th>\n",
              "      <td>NINQ</td>\n",
              "      <td>5450</td>\n",
              "      <td>510</td>\n",
              "      <td>0.0856</td>\n",
              "      <td>float64</td>\n",
              "      <td>[1.0, 0.0, nan, 2.0, 3.0, 5.0, 14.0, 10.0, 4.0...</td>\n",
              "      <td>17</td>\n",
              "    </tr>\n",
              "    <tr>\n",
              "      <th>7</th>\n",
              "      <td>CLAGE</td>\n",
              "      <td>5652</td>\n",
              "      <td>308</td>\n",
              "      <td>0.0517</td>\n",
              "      <td>float64</td>\n",
              "      <td>[94.366666667, 121.83333333, 149.46666667, nan...</td>\n",
              "      <td>5315</td>\n",
              "    </tr>\n",
              "    <tr>\n",
              "      <th>8</th>\n",
              "      <td>JOB</td>\n",
              "      <td>5681</td>\n",
              "      <td>279</td>\n",
              "      <td>0.0468</td>\n",
              "      <td>object</td>\n",
              "      <td>[Other, nan, Office, Sales, Mgr, ProfExe, Self]</td>\n",
              "      <td>7</td>\n",
              "    </tr>\n",
              "    <tr>\n",
              "      <th>9</th>\n",
              "      <td>REASON</td>\n",
              "      <td>5708</td>\n",
              "      <td>252</td>\n",
              "      <td>0.0423</td>\n",
              "      <td>object</td>\n",
              "      <td>[HomeImp, nan, DebtCon]</td>\n",
              "      <td>3</td>\n",
              "    </tr>\n",
              "    <tr>\n",
              "      <th>10</th>\n",
              "      <td>CLNO</td>\n",
              "      <td>5738</td>\n",
              "      <td>222</td>\n",
              "      <td>0.0372</td>\n",
              "      <td>float64</td>\n",
              "      <td>[9.0, 14.0, 10.0, nan, 8.0, 17.0, 12.0, 13.0, ...</td>\n",
              "      <td>63</td>\n",
              "    </tr>\n",
              "    <tr>\n",
              "      <th>11</th>\n",
              "      <td>VALUE</td>\n",
              "      <td>5848</td>\n",
              "      <td>112</td>\n",
              "      <td>0.0188</td>\n",
              "      <td>float64</td>\n",
              "      <td>[39025.0, 68400.0, 16700.0, nan, 112000.0, 403...</td>\n",
              "      <td>5382</td>\n",
              "    </tr>\n",
              "    <tr>\n",
              "      <th>12</th>\n",
              "      <td>BAD</td>\n",
              "      <td>5960</td>\n",
              "      <td>0</td>\n",
              "      <td>0.0000</td>\n",
              "      <td>int64</td>\n",
              "      <td>[1, 0]</td>\n",
              "      <td>2</td>\n",
              "    </tr>\n",
              "    <tr>\n",
              "      <th>13</th>\n",
              "      <td>LOAN</td>\n",
              "      <td>5960</td>\n",
              "      <td>0</td>\n",
              "      <td>0.0000</td>\n",
              "      <td>int64</td>\n",
              "      <td>[1100, 1300, 1500, 1700, 1800, 2000, 2100, 220...</td>\n",
              "      <td>540</td>\n",
              "    </tr>\n",
              "  </tbody>\n",
              "</table>\n",
              "</div>"
            ],
            "text/plain": [
              "      Variable  ...  #_Unique_Values\n",
              "Index           ...                 \n",
              "1      DEBTINC  ...             4694\n",
              "2        DEROG  ...               12\n",
              "3       DELINQ  ...               15\n",
              "4      MORTDUE  ...             5054\n",
              "5          YOJ  ...              100\n",
              "6         NINQ  ...               17\n",
              "7        CLAGE  ...             5315\n",
              "8          JOB  ...                7\n",
              "9       REASON  ...                3\n",
              "10        CLNO  ...               63\n",
              "11       VALUE  ...             5382\n",
              "12         BAD  ...                2\n",
              "13        LOAN  ...              540\n",
              "\n",
              "[13 rows x 7 columns]"
            ]
          },
          "metadata": {
            "tags": []
          },
          "execution_count": 11
        }
      ]
    },
    {
      "cell_type": "code",
      "metadata": {
        "id": "fbdZLO_I5Eqy",
        "colab_type": "code",
        "colab": {}
      },
      "source": [
        "%matplotlib inline\n",
        "# Histogram of the target categories\n",
        "def histogram(data,feature):\n",
        "    #data = input(\"Enter a DataFrame name: \")\n",
        "    #col = input(\"Enter a target column name: \")\n",
        "    #data=eval(data)\n",
        "    ncount = len(data)\n",
        "    ax = sns.countplot(x = feature, data=data ,palette=\"hls\")\n",
        "    sns.set(font_scale=1)\n",
        "    ax.set_xlabel('Target Segments')\n",
        "    plt.xticks(rotation=90)\n",
        "    ax.set_ylabel('Number of Observations')\n",
        "    fig = plt.gcf()\n",
        "    fig.set_size_inches(12,5)\n",
        "    # Make twin axis\n",
        "    ax2=ax.twinx()\n",
        "    # Switch so count axis is on right, frequency on left\n",
        "    ax2.yaxis.tick_left()\n",
        "    ax.yaxis.tick_right()\n",
        "    # Also switch the labels over\n",
        "    ax.yaxis.set_label_position('right')\n",
        "    ax2.yaxis.set_label_position('left')\n",
        "    ax2.set_ylabel('Frequency [%]')\n",
        "    for p in ax.patches:\n",
        "        x=p.get_bbox().get_points()[:,0]\n",
        "        y=p.get_bbox().get_points()[1,1]\n",
        "        ax.annotate('{:.2f}%'.format(100.*y/ncount), (x.mean(), y), \n",
        "                ha='center', va='bottom') # set the alignment of the text\n",
        "    # Use a LinearLocator to ensure the correct number of ticks\n",
        "    ax.yaxis.set_major_locator(ticker.LinearLocator(11))\n",
        "    # Fix the frequency range to 0-100\n",
        "    ax2.set_ylim(0,100)\n",
        "    ax.set_ylim(0,ncount)\n",
        "    # And use a MultipleLocator to ensure a tick spacing of 10\n",
        "    ax2.yaxis.set_major_locator(ticker.MultipleLocator(10))\n",
        "    # Need to turn the grid on ax2 off, otherwise the gridlines end up on top of the bars\n",
        "    ax2.grid(None)\n",
        "    plt.title('Histogram of Binary Target Categories', fontsize=20, y=1.08)\n",
        "    plt.show()\n",
        "    #plt.savefig('col.png')\n",
        "    del ncount, x, y"
      ],
      "execution_count": 0,
      "outputs": []
    },
    {
      "cell_type": "code",
      "metadata": {
        "id": "ychPA_zt5Eq1",
        "colab_type": "code",
        "colab": {}
      },
      "source": [
        "data_analysis['variableTypes'] = pd.Series(['continuous-ratio','discrete','discrete','continuous-ratio','discrete','discrete','continuous-ratio','nominal','nominal','discrete','continuous-ratio','nominal','continuous-ratio'],index=data_analysis.index)"
      ],
      "execution_count": 0,
      "outputs": []
    },
    {
      "cell_type": "code",
      "metadata": {
        "id": "U9WTd42h5Eq4",
        "colab_type": "code",
        "outputId": "ddea264e-7914-4f11-e457-3e258c88fef6",
        "colab": {
          "base_uri": "https://localhost:8080/",
          "height": 462
        }
      },
      "source": [
        "data_analysis"
      ],
      "execution_count": 14,
      "outputs": [
        {
          "output_type": "execute_result",
          "data": {
            "text/html": [
              "<div>\n",
              "<style scoped>\n",
              "    .dataframe tbody tr th:only-of-type {\n",
              "        vertical-align: middle;\n",
              "    }\n",
              "\n",
              "    .dataframe tbody tr th {\n",
              "        vertical-align: top;\n",
              "    }\n",
              "\n",
              "    .dataframe thead th {\n",
              "        text-align: right;\n",
              "    }\n",
              "</style>\n",
              "<table border=\"1\" class=\"dataframe\">\n",
              "  <thead>\n",
              "    <tr style=\"text-align: right;\">\n",
              "      <th></th>\n",
              "      <th>Variable</th>\n",
              "      <th>#_Total_Entry</th>\n",
              "      <th>#_Missing_Value</th>\n",
              "      <th>%_Missing_Value</th>\n",
              "      <th>Data_Type</th>\n",
              "      <th>Unique_Values</th>\n",
              "      <th>#_Unique_Values</th>\n",
              "      <th>variableTypes</th>\n",
              "    </tr>\n",
              "    <tr>\n",
              "      <th>Index</th>\n",
              "      <th></th>\n",
              "      <th></th>\n",
              "      <th></th>\n",
              "      <th></th>\n",
              "      <th></th>\n",
              "      <th></th>\n",
              "      <th></th>\n",
              "      <th></th>\n",
              "    </tr>\n",
              "  </thead>\n",
              "  <tbody>\n",
              "    <tr>\n",
              "      <th>1</th>\n",
              "      <td>DEBTINC</td>\n",
              "      <td>4693</td>\n",
              "      <td>1267</td>\n",
              "      <td>0.2126</td>\n",
              "      <td>float64</td>\n",
              "      <td>[nan, 37.113613558000004, 36.884894093, 3.7113...</td>\n",
              "      <td>4694</td>\n",
              "      <td>continuous-ratio</td>\n",
              "    </tr>\n",
              "    <tr>\n",
              "      <th>2</th>\n",
              "      <td>DEROG</td>\n",
              "      <td>5252</td>\n",
              "      <td>708</td>\n",
              "      <td>0.1188</td>\n",
              "      <td>float64</td>\n",
              "      <td>[0.0, nan, 3.0, 2.0, 1.0, 4.0, 5.0, 6.0, 7.0, ...</td>\n",
              "      <td>12</td>\n",
              "      <td>discrete</td>\n",
              "    </tr>\n",
              "    <tr>\n",
              "      <th>3</th>\n",
              "      <td>DELINQ</td>\n",
              "      <td>5380</td>\n",
              "      <td>580</td>\n",
              "      <td>0.0973</td>\n",
              "      <td>float64</td>\n",
              "      <td>[0.0, 2.0, nan, 1.0, 6.0, 15.0, 4.0, 3.0, 5.0,...</td>\n",
              "      <td>15</td>\n",
              "      <td>discrete</td>\n",
              "    </tr>\n",
              "    <tr>\n",
              "      <th>4</th>\n",
              "      <td>MORTDUE</td>\n",
              "      <td>5442</td>\n",
              "      <td>518</td>\n",
              "      <td>0.0869</td>\n",
              "      <td>float64</td>\n",
              "      <td>[25860.0, 70053.0, 13500.0, nan, 97800.0, 3054...</td>\n",
              "      <td>5054</td>\n",
              "      <td>continuous-ratio</td>\n",
              "    </tr>\n",
              "    <tr>\n",
              "      <th>5</th>\n",
              "      <td>YOJ</td>\n",
              "      <td>5445</td>\n",
              "      <td>515</td>\n",
              "      <td>0.0864</td>\n",
              "      <td>float64</td>\n",
              "      <td>[10.5, 7.0, 4.0, nan, 3.0, 9.0, 5.0, 11.0, 16....</td>\n",
              "      <td>100</td>\n",
              "      <td>discrete</td>\n",
              "    </tr>\n",
              "    <tr>\n",
              "      <th>6</th>\n",
              "      <td>NINQ</td>\n",
              "      <td>5450</td>\n",
              "      <td>510</td>\n",
              "      <td>0.0856</td>\n",
              "      <td>float64</td>\n",
              "      <td>[1.0, 0.0, nan, 2.0, 3.0, 5.0, 14.0, 10.0, 4.0...</td>\n",
              "      <td>17</td>\n",
              "      <td>discrete</td>\n",
              "    </tr>\n",
              "    <tr>\n",
              "      <th>7</th>\n",
              "      <td>CLAGE</td>\n",
              "      <td>5652</td>\n",
              "      <td>308</td>\n",
              "      <td>0.0517</td>\n",
              "      <td>float64</td>\n",
              "      <td>[94.366666667, 121.83333333, 149.46666667, nan...</td>\n",
              "      <td>5315</td>\n",
              "      <td>continuous-ratio</td>\n",
              "    </tr>\n",
              "    <tr>\n",
              "      <th>8</th>\n",
              "      <td>JOB</td>\n",
              "      <td>5681</td>\n",
              "      <td>279</td>\n",
              "      <td>0.0468</td>\n",
              "      <td>object</td>\n",
              "      <td>[Other, nan, Office, Sales, Mgr, ProfExe, Self]</td>\n",
              "      <td>7</td>\n",
              "      <td>nominal</td>\n",
              "    </tr>\n",
              "    <tr>\n",
              "      <th>9</th>\n",
              "      <td>REASON</td>\n",
              "      <td>5708</td>\n",
              "      <td>252</td>\n",
              "      <td>0.0423</td>\n",
              "      <td>object</td>\n",
              "      <td>[HomeImp, nan, DebtCon]</td>\n",
              "      <td>3</td>\n",
              "      <td>nominal</td>\n",
              "    </tr>\n",
              "    <tr>\n",
              "      <th>10</th>\n",
              "      <td>CLNO</td>\n",
              "      <td>5738</td>\n",
              "      <td>222</td>\n",
              "      <td>0.0372</td>\n",
              "      <td>float64</td>\n",
              "      <td>[9.0, 14.0, 10.0, nan, 8.0, 17.0, 12.0, 13.0, ...</td>\n",
              "      <td>63</td>\n",
              "      <td>discrete</td>\n",
              "    </tr>\n",
              "    <tr>\n",
              "      <th>11</th>\n",
              "      <td>VALUE</td>\n",
              "      <td>5848</td>\n",
              "      <td>112</td>\n",
              "      <td>0.0188</td>\n",
              "      <td>float64</td>\n",
              "      <td>[39025.0, 68400.0, 16700.0, nan, 112000.0, 403...</td>\n",
              "      <td>5382</td>\n",
              "      <td>continuous-ratio</td>\n",
              "    </tr>\n",
              "    <tr>\n",
              "      <th>12</th>\n",
              "      <td>BAD</td>\n",
              "      <td>5960</td>\n",
              "      <td>0</td>\n",
              "      <td>0.0000</td>\n",
              "      <td>int64</td>\n",
              "      <td>[1, 0]</td>\n",
              "      <td>2</td>\n",
              "      <td>nominal</td>\n",
              "    </tr>\n",
              "    <tr>\n",
              "      <th>13</th>\n",
              "      <td>LOAN</td>\n",
              "      <td>5960</td>\n",
              "      <td>0</td>\n",
              "      <td>0.0000</td>\n",
              "      <td>int64</td>\n",
              "      <td>[1100, 1300, 1500, 1700, 1800, 2000, 2100, 220...</td>\n",
              "      <td>540</td>\n",
              "      <td>continuous-ratio</td>\n",
              "    </tr>\n",
              "  </tbody>\n",
              "</table>\n",
              "</div>"
            ],
            "text/plain": [
              "      Variable  #_Total_Entry  ...  #_Unique_Values     variableTypes\n",
              "Index                          ...                                   \n",
              "1      DEBTINC           4693  ...             4694  continuous-ratio\n",
              "2        DEROG           5252  ...               12          discrete\n",
              "3       DELINQ           5380  ...               15          discrete\n",
              "4      MORTDUE           5442  ...             5054  continuous-ratio\n",
              "5          YOJ           5445  ...              100          discrete\n",
              "6         NINQ           5450  ...               17          discrete\n",
              "7        CLAGE           5652  ...             5315  continuous-ratio\n",
              "8          JOB           5681  ...                7           nominal\n",
              "9       REASON           5708  ...                3           nominal\n",
              "10        CLNO           5738  ...               63          discrete\n",
              "11       VALUE           5848  ...             5382  continuous-ratio\n",
              "12         BAD           5960  ...                2           nominal\n",
              "13        LOAN           5960  ...              540  continuous-ratio\n",
              "\n",
              "[13 rows x 8 columns]"
            ]
          },
          "metadata": {
            "tags": []
          },
          "execution_count": 14
        }
      ]
    },
    {
      "cell_type": "code",
      "metadata": {
        "id": "wGdGdSue5Eq7",
        "colab_type": "code",
        "outputId": "05c76c15-5296-4694-cbc1-be2aba4156bd",
        "colab": {
          "base_uri": "https://localhost:8080/",
          "height": 373
        }
      },
      "source": [
        "histogram(data,\"BAD\")"
      ],
      "execution_count": 15,
      "outputs": [
        {
          "output_type": "display_data",
          "data": {
            "image/png": "[encoded data removed]",
            "text/plain": [
              "<Figure size 864x360 with 2 Axes>"
            ]
          },
          "metadata": {
            "tags": []
          }
        }
      ]
    },
    {
      "cell_type": "code",
      "metadata": {
        "id": "t3F03Z1x5Eq-",
        "colab_type": "code",
        "outputId": "81e95a5e-a461-4581-df78-6024b261e152",
        "colab": {
          "base_uri": "https://localhost:8080/",
          "height": 185
        }
      },
      "source": [
        "data_analysis['Missing_Elimination']=\"\"\n",
        "for i in range(1,len(data_analysis)+1) :\n",
        "    if data_analysis['%_Missing_Value'][i] <= (0.05):\n",
        "        data_analysis['Missing_Elimination'][i]='Simple'\n",
        "    elif data_analysis['%_Missing_Value'][i] < (0.25):\n",
        "        data_analysis['Missing_Elimination'][i]='Tree-based'\n",
        "    elif data_analysis['%_Missing_Value'][i] < (0.5) :\n",
        "        data_analysis['Missing_Elimination'][i]='Model'\n"
      ],
      "execution_count": 16,
      "outputs": [
        {
          "output_type": "stream",
          "text": [
            "/usr/local/lib/python3.6/dist-packages/ipykernel_launcher.py:6: SettingWithCopyWarning: \n",
            "A value is trying to be set on a copy of a slice from a DataFrame\n",
            "\n",
            "See the caveats in the documentation: http://pandas.pydata.org/pandas-docs/stable/user_guide/indexing.html#returning-a-view-versus-a-copy\n",
            "  \n",
            "/usr/local/lib/python3.6/dist-packages/ipykernel_launcher.py:4: SettingWithCopyWarning: \n",
            "A value is trying to be set on a copy of a slice from a DataFrame\n",
            "\n",
            "See the caveats in the documentation: http://pandas.pydata.org/pandas-docs/stable/user_guide/indexing.html#returning-a-view-versus-a-copy\n",
            "  after removing the cwd from sys.path.\n"
          ],
          "name": "stderr"
        }
      ]
    },
    {
      "cell_type": "code",
      "metadata": {
        "id": "oPfgEULP5ErC",
        "colab_type": "code",
        "outputId": "f992ec51-98f8-4767-e3a9-472fe95b69d9",
        "colab": {
          "base_uri": "https://localhost:8080/",
          "height": 462
        }
      },
      "source": [
        "data_analysis"
      ],
      "execution_count": 17,
      "outputs": [
        {
          "output_type": "execute_result",
          "data": {
            "text/html": [
              "<div>\n",
              "<style scoped>\n",
              "    .dataframe tbody tr th:only-of-type {\n",
              "        vertical-align: middle;\n",
              "    }\n",
              "\n",
              "    .dataframe tbody tr th {\n",
              "        vertical-align: top;\n",
              "    }\n",
              "\n",
              "    .dataframe thead th {\n",
              "        text-align: right;\n",
              "    }\n",
              "</style>\n",
              "<table border=\"1\" class=\"dataframe\">\n",
              "  <thead>\n",
              "    <tr style=\"text-align: right;\">\n",
              "      <th></th>\n",
              "      <th>Variable</th>\n",
              "      <th>#_Total_Entry</th>\n",
              "      <th>#_Missing_Value</th>\n",
              "      <th>%_Missing_Value</th>\n",
              "      <th>Data_Type</th>\n",
              "      <th>Unique_Values</th>\n",
              "      <th>#_Unique_Values</th>\n",
              "      <th>variableTypes</th>\n",
              "      <th>Missing_Elimination</th>\n",
              "    </tr>\n",
              "    <tr>\n",
              "      <th>Index</th>\n",
              "      <th></th>\n",
              "      <th></th>\n",
              "      <th></th>\n",
              "      <th></th>\n",
              "      <th></th>\n",
              "      <th></th>\n",
              "      <th></th>\n",
              "      <th></th>\n",
              "      <th></th>\n",
              "    </tr>\n",
              "  </thead>\n",
              "  <tbody>\n",
              "    <tr>\n",
              "      <th>1</th>\n",
              "      <td>DEBTINC</td>\n",
              "      <td>4693</td>\n",
              "      <td>1267</td>\n",
              "      <td>0.2126</td>\n",
              "      <td>float64</td>\n",
              "      <td>[nan, 37.113613558000004, 36.884894093, 3.7113...</td>\n",
              "      <td>4694</td>\n",
              "      <td>continuous-ratio</td>\n",
              "      <td>Tree-based</td>\n",
              "    </tr>\n",
              "    <tr>\n",
              "      <th>2</th>\n",
              "      <td>DEROG</td>\n",
              "      <td>5252</td>\n",
              "      <td>708</td>\n",
              "      <td>0.1188</td>\n",
              "      <td>float64</td>\n",
              "      <td>[0.0, nan, 3.0, 2.0, 1.0, 4.0, 5.0, 6.0, 7.0, ...</td>\n",
              "      <td>12</td>\n",
              "      <td>discrete</td>\n",
              "      <td>Tree-based</td>\n",
              "    </tr>\n",
              "    <tr>\n",
              "      <th>3</th>\n",
              "      <td>DELINQ</td>\n",
              "      <td>5380</td>\n",
              "      <td>580</td>\n",
              "      <td>0.0973</td>\n",
              "      <td>float64</td>\n",
              "      <td>[0.0, 2.0, nan, 1.0, 6.0, 15.0, 4.0, 3.0, 5.0,...</td>\n",
              "      <td>15</td>\n",
              "      <td>discrete</td>\n",
              "      <td>Tree-based</td>\n",
              "    </tr>\n",
              "    <tr>\n",
              "      <th>4</th>\n",
              "      <td>MORTDUE</td>\n",
              "      <td>5442</td>\n",
              "      <td>518</td>\n",
              "      <td>0.0869</td>\n",
              "      <td>float64</td>\n",
              "      <td>[25860.0, 70053.0, 13500.0, nan, 97800.0, 3054...</td>\n",
              "      <td>5054</td>\n",
              "      <td>continuous-ratio</td>\n",
              "      <td>Tree-based</td>\n",
              "    </tr>\n",
              "    <tr>\n",
              "      <th>5</th>\n",
              "      <td>YOJ</td>\n",
              "      <td>5445</td>\n",
              "      <td>515</td>\n",
              "      <td>0.0864</td>\n",
              "      <td>float64</td>\n",
              "      <td>[10.5, 7.0, 4.0, nan, 3.0, 9.0, 5.0, 11.0, 16....</td>\n",
              "      <td>100</td>\n",
              "      <td>discrete</td>\n",
              "      <td>Tree-based</td>\n",
              "    </tr>\n",
              "    <tr>\n",
              "      <th>6</th>\n",
              "      <td>NINQ</td>\n",
              "      <td>5450</td>\n",
              "      <td>510</td>\n",
              "      <td>0.0856</td>\n",
              "      <td>float64</td>\n",
              "      <td>[1.0, 0.0, nan, 2.0, 3.0, 5.0, 14.0, 10.0, 4.0...</td>\n",
              "      <td>17</td>\n",
              "      <td>discrete</td>\n",
              "      <td>Tree-based</td>\n",
              "    </tr>\n",
              "    <tr>\n",
              "      <th>7</th>\n",
              "      <td>CLAGE</td>\n",
              "      <td>5652</td>\n",
              "      <td>308</td>\n",
              "      <td>0.0517</td>\n",
              "      <td>float64</td>\n",
              "      <td>[94.366666667, 121.83333333, 149.46666667, nan...</td>\n",
              "      <td>5315</td>\n",
              "      <td>continuous-ratio</td>\n",
              "      <td>Tree-based</td>\n",
              "    </tr>\n",
              "    <tr>\n",
              "      <th>8</th>\n",
              "      <td>JOB</td>\n",
              "      <td>5681</td>\n",
              "      <td>279</td>\n",
              "      <td>0.0468</td>\n",
              "      <td>object</td>\n",
              "      <td>[Other, nan, Office, Sales, Mgr, ProfExe, Self]</td>\n",
              "      <td>7</td>\n",
              "      <td>nominal</td>\n",
              "      <td>Simple</td>\n",
              "    </tr>\n",
              "    <tr>\n",
              "      <th>9</th>\n",
              "      <td>REASON</td>\n",
              "      <td>5708</td>\n",
              "      <td>252</td>\n",
              "      <td>0.0423</td>\n",
              "      <td>object</td>\n",
              "      <td>[HomeImp, nan, DebtCon]</td>\n",
              "      <td>3</td>\n",
              "      <td>nominal</td>\n",
              "      <td>Simple</td>\n",
              "    </tr>\n",
              "    <tr>\n",
              "      <th>10</th>\n",
              "      <td>CLNO</td>\n",
              "      <td>5738</td>\n",
              "      <td>222</td>\n",
              "      <td>0.0372</td>\n",
              "      <td>float64</td>\n",
              "      <td>[9.0, 14.0, 10.0, nan, 8.0, 17.0, 12.0, 13.0, ...</td>\n",
              "      <td>63</td>\n",
              "      <td>discrete</td>\n",
              "      <td>Simple</td>\n",
              "    </tr>\n",
              "    <tr>\n",
              "      <th>11</th>\n",
              "      <td>VALUE</td>\n",
              "      <td>5848</td>\n",
              "      <td>112</td>\n",
              "      <td>0.0188</td>\n",
              "      <td>float64</td>\n",
              "      <td>[39025.0, 68400.0, 16700.0, nan, 112000.0, 403...</td>\n",
              "      <td>5382</td>\n",
              "      <td>continuous-ratio</td>\n",
              "      <td>Simple</td>\n",
              "    </tr>\n",
              "    <tr>\n",
              "      <th>12</th>\n",
              "      <td>BAD</td>\n",
              "      <td>5960</td>\n",
              "      <td>0</td>\n",
              "      <td>0.0000</td>\n",
              "      <td>int64</td>\n",
              "      <td>[1, 0]</td>\n",
              "      <td>2</td>\n",
              "      <td>nominal</td>\n",
              "      <td>Simple</td>\n",
              "    </tr>\n",
              "    <tr>\n",
              "      <th>13</th>\n",
              "      <td>LOAN</td>\n",
              "      <td>5960</td>\n",
              "      <td>0</td>\n",
              "      <td>0.0000</td>\n",
              "      <td>int64</td>\n",
              "      <td>[1100, 1300, 1500, 1700, 1800, 2000, 2100, 220...</td>\n",
              "      <td>540</td>\n",
              "      <td>continuous-ratio</td>\n",
              "      <td>Simple</td>\n",
              "    </tr>\n",
              "  </tbody>\n",
              "</table>\n",
              "</div>"
            ],
            "text/plain": [
              "      Variable  #_Total_Entry  ...     variableTypes  Missing_Elimination\n",
              "Index                          ...                                       \n",
              "1      DEBTINC           4693  ...  continuous-ratio           Tree-based\n",
              "2        DEROG           5252  ...          discrete           Tree-based\n",
              "3       DELINQ           5380  ...          discrete           Tree-based\n",
              "4      MORTDUE           5442  ...  continuous-ratio           Tree-based\n",
              "5          YOJ           5445  ...          discrete           Tree-based\n",
              "6         NINQ           5450  ...          discrete           Tree-based\n",
              "7        CLAGE           5652  ...  continuous-ratio           Tree-based\n",
              "8          JOB           5681  ...           nominal               Simple\n",
              "9       REASON           5708  ...           nominal               Simple\n",
              "10        CLNO           5738  ...          discrete               Simple\n",
              "11       VALUE           5848  ...  continuous-ratio               Simple\n",
              "12         BAD           5960  ...           nominal               Simple\n",
              "13        LOAN           5960  ...  continuous-ratio               Simple\n",
              "\n",
              "[13 rows x 9 columns]"
            ]
          },
          "metadata": {
            "tags": []
          },
          "execution_count": 17
        }
      ]
    },
    {
      "cell_type": "code",
      "metadata": {
        "id": "MYo4mMmb5ErN",
        "colab_type": "code",
        "outputId": "c02b1800-8243-4cec-8b1c-64796dd12a0b",
        "colab": {
          "base_uri": "https://localhost:8080/",
          "height": 151
        }
      },
      "source": [
        "data.groupby(\"JOB\")[\"VALUE\"].mean()"
      ],
      "execution_count": 18,
      "outputs": [
        {
          "output_type": "execute_result",
          "data": {
            "text/plain": [
              "JOB\n",
              "Mgr        108628.262697\n",
              "Office      94081.816756\n",
              "Other       84787.503377\n",
              "ProfExe    131118.204130\n",
              "Sales      108449.592593\n",
              "Self       149734.106383\n",
              "Name: VALUE, dtype: float64"
            ]
          },
          "metadata": {
            "tags": []
          },
          "execution_count": 18
        }
      ]
    },
    {
      "cell_type": "code",
      "metadata": {
        "id": "BYPJVo_W5ErQ",
        "colab_type": "code",
        "colab": {}
      },
      "source": [
        "def bar_chart(feature):\n",
        "    status_bad = data[data['BAD']==1][feature].value_counts()\n",
        "    status_good = data[data['BAD']==0][feature].value_counts()\n",
        "    df_t = pd.DataFrame([status_bad,status_good])\n",
        "    df_t.index=[\"BAD\",\"GOOD\"]\n",
        "    df_t.plot(kind='bar',stacked=True,fig=(18,6),title=feature)"
      ],
      "execution_count": 0,
      "outputs": []
    },
    {
      "cell_type": "code",
      "metadata": {
        "id": "S5sqMooY5ErV",
        "colab_type": "code",
        "colab": {
          "base_uri": "https://localhost:8080/",
          "height": 308
        },
        "outputId": "623267f6-f93a-409a-95ed-c7aee357feb2"
      },
      "source": [
        "bar_chart(\"REASON\")"
      ],
      "execution_count": 20,
      "outputs": [
        {
          "output_type": "display_data",
          "data": {
            "image/png": "[encoded data removed]",
            "text/plain": [
              "<Figure size 432x288 with 1 Axes>"
            ]
          },
          "metadata": {
            "tags": []
          }
        }
      ]
    },
    {
      "cell_type": "code",
      "metadata": {
        "id": "fCXZ2t3n5ErZ",
        "colab_type": "code",
        "outputId": "4fcba6d3-aa5a-4bd8-d15f-73a30b91a745",
        "colab": {
          "base_uri": "https://localhost:8080/",
          "height": 373
        }
      },
      "source": [
        "data.corr(method ='pearson') "
      ],
      "execution_count": 21,
      "outputs": [
        {
          "output_type": "execute_result",
          "data": {
            "text/html": [
              "<div>\n",
              "<style scoped>\n",
              "    .dataframe tbody tr th:only-of-type {\n",
              "        vertical-align: middle;\n",
              "    }\n",
              "\n",
              "    .dataframe tbody tr th {\n",
              "        vertical-align: top;\n",
              "    }\n",
              "\n",
              "    .dataframe thead th {\n",
              "        text-align: right;\n",
              "    }\n",
              "</style>\n",
              "<table border=\"1\" class=\"dataframe\">\n",
              "  <thead>\n",
              "    <tr style=\"text-align: right;\">\n",
              "      <th></th>\n",
              "      <th>BAD</th>\n",
              "      <th>LOAN</th>\n",
              "      <th>MORTDUE</th>\n",
              "      <th>VALUE</th>\n",
              "      <th>YOJ</th>\n",
              "      <th>DEROG</th>\n",
              "      <th>DELINQ</th>\n",
              "      <th>CLAGE</th>\n",
              "      <th>NINQ</th>\n",
              "      <th>CLNO</th>\n",
              "      <th>DEBTINC</th>\n",
              "    </tr>\n",
              "  </thead>\n",
              "  <tbody>\n",
              "    <tr>\n",
              "      <th>BAD</th>\n",
              "      <td>1.000000</td>\n",
              "      <td>-0.075099</td>\n",
              "      <td>-0.048219</td>\n",
              "      <td>-0.029954</td>\n",
              "      <td>-0.060238</td>\n",
              "      <td>0.276081</td>\n",
              "      <td>0.354107</td>\n",
              "      <td>-0.170499</td>\n",
              "      <td>0.174980</td>\n",
              "      <td>-0.004157</td>\n",
              "      <td>0.199835</td>\n",
              "    </tr>\n",
              "    <tr>\n",
              "      <th>LOAN</th>\n",
              "      <td>-0.075099</td>\n",
              "      <td>1.000000</td>\n",
              "      <td>0.228595</td>\n",
              "      <td>0.335393</td>\n",
              "      <td>0.105728</td>\n",
              "      <td>-0.001302</td>\n",
              "      <td>-0.035144</td>\n",
              "      <td>0.088540</td>\n",
              "      <td>0.044487</td>\n",
              "      <td>0.072631</td>\n",
              "      <td>0.084735</td>\n",
              "    </tr>\n",
              "    <tr>\n",
              "      <th>MORTDUE</th>\n",
              "      <td>-0.048219</td>\n",
              "      <td>0.228595</td>\n",
              "      <td>1.000000</td>\n",
              "      <td>0.875666</td>\n",
              "      <td>-0.088480</td>\n",
              "      <td>-0.049516</td>\n",
              "      <td>-0.001044</td>\n",
              "      <td>0.140047</td>\n",
              "      <td>0.031392</td>\n",
              "      <td>0.323631</td>\n",
              "      <td>0.154939</td>\n",
              "    </tr>\n",
              "    <tr>\n",
              "      <th>VALUE</th>\n",
              "      <td>-0.029954</td>\n",
              "      <td>0.335393</td>\n",
              "      <td>0.875666</td>\n",
              "      <td>1.000000</td>\n",
              "      <td>0.007759</td>\n",
              "      <td>-0.048689</td>\n",
              "      <td>-0.014103</td>\n",
              "      <td>0.171238</td>\n",
              "      <td>-0.004398</td>\n",
              "      <td>0.269149</td>\n",
              "      <td>0.132174</td>\n",
              "    </tr>\n",
              "    <tr>\n",
              "      <th>YOJ</th>\n",
              "      <td>-0.060238</td>\n",
              "      <td>0.105728</td>\n",
              "      <td>-0.088480</td>\n",
              "      <td>0.007759</td>\n",
              "      <td>1.000000</td>\n",
              "      <td>-0.065879</td>\n",
              "      <td>0.038153</td>\n",
              "      <td>0.201718</td>\n",
              "      <td>-0.071627</td>\n",
              "      <td>0.024838</td>\n",
              "      <td>-0.055891</td>\n",
              "    </tr>\n",
              "    <tr>\n",
              "      <th>DEROG</th>\n",
              "      <td>0.276081</td>\n",
              "      <td>-0.001302</td>\n",
              "      <td>-0.049516</td>\n",
              "      <td>-0.048689</td>\n",
              "      <td>-0.065879</td>\n",
              "      <td>1.000000</td>\n",
              "      <td>0.211832</td>\n",
              "      <td>-0.083047</td>\n",
              "      <td>0.173934</td>\n",
              "      <td>0.061884</td>\n",
              "      <td>0.017065</td>\n",
              "    </tr>\n",
              "    <tr>\n",
              "      <th>DELINQ</th>\n",
              "      <td>0.354107</td>\n",
              "      <td>-0.035144</td>\n",
              "      <td>-0.001044</td>\n",
              "      <td>-0.014103</td>\n",
              "      <td>0.038153</td>\n",
              "      <td>0.211832</td>\n",
              "      <td>1.000000</td>\n",
              "      <td>0.022488</td>\n",
              "      <td>0.067812</td>\n",
              "      <td>0.164639</td>\n",
              "      <td>0.052364</td>\n",
              "    </tr>\n",
              "    <tr>\n",
              "      <th>CLAGE</th>\n",
              "      <td>-0.170499</td>\n",
              "      <td>0.088540</td>\n",
              "      <td>0.140047</td>\n",
              "      <td>0.171238</td>\n",
              "      <td>0.201718</td>\n",
              "      <td>-0.083047</td>\n",
              "      <td>0.022488</td>\n",
              "      <td>1.000000</td>\n",
              "      <td>-0.116935</td>\n",
              "      <td>0.237987</td>\n",
              "      <td>-0.046477</td>\n",
              "    </tr>\n",
              "    <tr>\n",
              "      <th>NINQ</th>\n",
              "      <td>0.174980</td>\n",
              "      <td>0.044487</td>\n",
              "      <td>0.031392</td>\n",
              "      <td>-0.004398</td>\n",
              "      <td>-0.071627</td>\n",
              "      <td>0.173934</td>\n",
              "      <td>0.067812</td>\n",
              "      <td>-0.116935</td>\n",
              "      <td>1.000000</td>\n",
              "      <td>0.088389</td>\n",
              "      <td>0.141344</td>\n",
              "    </tr>\n",
              "    <tr>\n",
              "      <th>CLNO</th>\n",
              "      <td>-0.004157</td>\n",
              "      <td>0.072631</td>\n",
              "      <td>0.323631</td>\n",
              "      <td>0.269149</td>\n",
              "      <td>0.024838</td>\n",
              "      <td>0.061884</td>\n",
              "      <td>0.164639</td>\n",
              "      <td>0.237987</td>\n",
              "      <td>0.088389</td>\n",
              "      <td>1.000000</td>\n",
              "      <td>0.185539</td>\n",
              "    </tr>\n",
              "    <tr>\n",
              "      <th>DEBTINC</th>\n",
              "      <td>0.199835</td>\n",
              "      <td>0.084735</td>\n",
              "      <td>0.154939</td>\n",
              "      <td>0.132174</td>\n",
              "      <td>-0.055891</td>\n",
              "      <td>0.017065</td>\n",
              "      <td>0.052364</td>\n",
              "      <td>-0.046477</td>\n",
              "      <td>0.141344</td>\n",
              "      <td>0.185539</td>\n",
              "      <td>1.000000</td>\n",
              "    </tr>\n",
              "  </tbody>\n",
              "</table>\n",
              "</div>"
            ],
            "text/plain": [
              "              BAD      LOAN   MORTDUE  ...      NINQ      CLNO   DEBTINC\n",
              "BAD      1.000000 -0.075099 -0.048219  ...  0.174980 -0.004157  0.199835\n",
              "LOAN    -0.075099  1.000000  0.228595  ...  0.044487  0.072631  0.084735\n",
              "MORTDUE -0.048219  0.228595  1.000000  ...  0.031392  0.323631  0.154939\n",
              "VALUE   -0.029954  0.335393  0.875666  ... -0.004398  0.269149  0.132174\n",
              "YOJ     -0.060238  0.105728 -0.088480  ... -0.071627  0.024838 -0.055891\n",
              "DEROG    0.276081 -0.001302 -0.049516  ...  0.173934  0.061884  0.017065\n",
              "DELINQ   0.354107 -0.035144 -0.001044  ...  0.067812  0.164639  0.052364\n",
              "CLAGE   -0.170499  0.088540  0.140047  ... -0.116935  0.237987 -0.046477\n",
              "NINQ     0.174980  0.044487  0.031392  ...  1.000000  0.088389  0.141344\n",
              "CLNO    -0.004157  0.072631  0.323631  ...  0.088389  1.000000  0.185539\n",
              "DEBTINC  0.199835  0.084735  0.154939  ...  0.141344  0.185539  1.000000\n",
              "\n",
              "[11 rows x 11 columns]"
            ]
          },
          "metadata": {
            "tags": []
          },
          "execution_count": 21
        }
      ]
    },
    {
      "cell_type": "code",
      "metadata": {
        "id": "_y0qluiY5Erc",
        "colab_type": "code",
        "colab": {
          "base_uri": "https://localhost:8080/",
          "height": 1000
        },
        "outputId": "2f4ed6f3-a316-422c-bba9-1b25f6aac804"
      },
      "source": [
        "# Numerical features\n",
        "numerical_cols = [cname for cname in data.columns if\n",
        "                 data[cname].dtype in ['float']]\n",
        "num = data[numerical_cols]\n",
        "num.columns\n",
        "\n",
        "# Visualizations\n",
        "sns.set( rc = {'figure.figsize': (5, 5)})\n",
        "fnum = ['MORTDUE','VALUE','YOJ','DEROG','CLAGE','DEBTINC','DELINQ','NINQ','CLNO']\n",
        "\n",
        "for col in fnum:\n",
        "    plt.figure()\n",
        "    x=num[col]\n",
        "    sns.distplot(x, bins=10)\n",
        "    plt.xticks(rotation=45)\n",
        "    plt.show()"
      ],
      "execution_count": 22,
      "outputs": [
        {
          "output_type": "display_data",
          "data": {
            "image/png": "[encoded data removed]",
            "text/plain": [
              "<Figure size 360x360 with 1 Axes>"
            ]
          },
          "metadata": {
            "tags": []
          }
        },
        {
          "output_type": "display_data",
          "data": {
            "image/png": "[encoded data removed]",
            "text/plain": [
              "<Figure size 360x360 with 1 Axes>"
            ]
          },
          "metadata": {
            "tags": []
          }
        },
        {
          "output_type": "display_data",
          "data": {
            "image/png": "[encoded data removed]",
            "text/plain": [
              "<Figure size 360x360 with 1 Axes>"
            ]
          },
          "metadata": {
            "tags": []
          }
        },
        {
          "output_type": "display_data",
          "data": {
            "image/png": "[encoded data removed]",
            "text/plain": [
              "<Figure size 360x360 with 1 Axes>"
            ]
          },
          "metadata": {
            "tags": []
          }
        },
        {
          "output_type": "display_data",
          "data": {
            "image/png": "[encoded data removed]",
            "text/plain": [
              "<Figure size 360x360 with 1 Axes>"
            ]
          },
          "metadata": {
            "tags": []
          }
        },
        {
          "output_type": "display_data",
          "data": {
            "image/png": "[encoded data removed]",
            "text/plain": [
              "<Figure size 360x360 with 1 Axes>"
            ]
          },
          "metadata": {
            "tags": []
          }
        },
        {
          "output_type": "display_data",
          "data": {
            "image/png": "[encoded data removed]",
            "text/plain": [
              "<Figure size 360x360 with 1 Axes>"
            ]
          },
          "metadata": {
            "tags": []
          }
        },
        {
          "output_type": "display_data",
          "data": {
            "image/png": "[encoded data removed]",
            "text/plain": [
              "<Figure size 360x360 with 1 Axes>"
            ]
          },
          "metadata": {
            "tags": []
          }
        },
        {
          "output_type": "display_data",
          "data": {
            "image/png": "[encoded data removed]",
            "text/plain": [
              "<Figure size 360x360 with 1 Axes>"
            ]
          },
          "metadata": {
            "tags": []
          }
        }
      ]
    },
    {
      "cell_type": "code",
      "metadata": {
        "id": "7Z7S2m3d5Erq",
        "colab_type": "code",
        "outputId": "005c71ff-94ea-42a4-8323-362be1918a4a",
        "colab": {
          "base_uri": "https://localhost:8080/",
          "height": 34
        }
      },
      "source": [
        "len(data.index) == data.shape[0]"
      ],
      "execution_count": 23,
      "outputs": [
        {
          "output_type": "execute_result",
          "data": {
            "text/plain": [
              "True"
            ]
          },
          "metadata": {
            "tags": []
          },
          "execution_count": 23
        }
      ]
    },
    {
      "cell_type": "code",
      "metadata": {
        "id": "sS2GKW7tLuKM",
        "colab_type": "code",
        "colab": {}
      },
      "source": [
        "data_analysis.set_index(\"Variable\",inplace=True)\n"
      ],
      "execution_count": 0,
      "outputs": []
    },
    {
      "cell_type": "code",
      "metadata": {
        "id": "slB85N-PMCJw",
        "colab_type": "code",
        "outputId": "4449efec-d971-42c1-ed78-e1bc20ce09c1",
        "colab": {
          "base_uri": "https://localhost:8080/",
          "height": 462
        }
      },
      "source": [
        "data_analysis"
      ],
      "execution_count": 25,
      "outputs": [
        {
          "output_type": "execute_result",
          "data": {
            "text/html": [
              "<div>\n",
              "<style scoped>\n",
              "    .dataframe tbody tr th:only-of-type {\n",
              "        vertical-align: middle;\n",
              "    }\n",
              "\n",
              "    .dataframe tbody tr th {\n",
              "        vertical-align: top;\n",
              "    }\n",
              "\n",
              "    .dataframe thead th {\n",
              "        text-align: right;\n",
              "    }\n",
              "</style>\n",
              "<table border=\"1\" class=\"dataframe\">\n",
              "  <thead>\n",
              "    <tr style=\"text-align: right;\">\n",
              "      <th></th>\n",
              "      <th>#_Total_Entry</th>\n",
              "      <th>#_Missing_Value</th>\n",
              "      <th>%_Missing_Value</th>\n",
              "      <th>Data_Type</th>\n",
              "      <th>Unique_Values</th>\n",
              "      <th>#_Unique_Values</th>\n",
              "      <th>variableTypes</th>\n",
              "      <th>Missing_Elimination</th>\n",
              "    </tr>\n",
              "    <tr>\n",
              "      <th>Variable</th>\n",
              "      <th></th>\n",
              "      <th></th>\n",
              "      <th></th>\n",
              "      <th></th>\n",
              "      <th></th>\n",
              "      <th></th>\n",
              "      <th></th>\n",
              "      <th></th>\n",
              "    </tr>\n",
              "  </thead>\n",
              "  <tbody>\n",
              "    <tr>\n",
              "      <th>DEBTINC</th>\n",
              "      <td>4693</td>\n",
              "      <td>1267</td>\n",
              "      <td>0.2126</td>\n",
              "      <td>float64</td>\n",
              "      <td>[nan, 37.113613558000004, 36.884894093, 3.7113...</td>\n",
              "      <td>4694</td>\n",
              "      <td>continuous-ratio</td>\n",
              "      <td>Tree-based</td>\n",
              "    </tr>\n",
              "    <tr>\n",
              "      <th>DEROG</th>\n",
              "      <td>5252</td>\n",
              "      <td>708</td>\n",
              "      <td>0.1188</td>\n",
              "      <td>float64</td>\n",
              "      <td>[0.0, nan, 3.0, 2.0, 1.0, 4.0, 5.0, 6.0, 7.0, ...</td>\n",
              "      <td>12</td>\n",
              "      <td>discrete</td>\n",
              "      <td>Tree-based</td>\n",
              "    </tr>\n",
              "    <tr>\n",
              "      <th>DELINQ</th>\n",
              "      <td>5380</td>\n",
              "      <td>580</td>\n",
              "      <td>0.0973</td>\n",
              "      <td>float64</td>\n",
              "      <td>[0.0, 2.0, nan, 1.0, 6.0, 15.0, 4.0, 3.0, 5.0,...</td>\n",
              "      <td>15</td>\n",
              "      <td>discrete</td>\n",
              "      <td>Tree-based</td>\n",
              "    </tr>\n",
              "    <tr>\n",
              "      <th>MORTDUE</th>\n",
              "      <td>5442</td>\n",
              "      <td>518</td>\n",
              "      <td>0.0869</td>\n",
              "      <td>float64</td>\n",
              "      <td>[25860.0, 70053.0, 13500.0, nan, 97800.0, 3054...</td>\n",
              "      <td>5054</td>\n",
              "      <td>continuous-ratio</td>\n",
              "      <td>Tree-based</td>\n",
              "    </tr>\n",
              "    <tr>\n",
              "      <th>YOJ</th>\n",
              "      <td>5445</td>\n",
              "      <td>515</td>\n",
              "      <td>0.0864</td>\n",
              "      <td>float64</td>\n",
              "      <td>[10.5, 7.0, 4.0, nan, 3.0, 9.0, 5.0, 11.0, 16....</td>\n",
              "      <td>100</td>\n",
              "      <td>discrete</td>\n",
              "      <td>Tree-based</td>\n",
              "    </tr>\n",
              "    <tr>\n",
              "      <th>NINQ</th>\n",
              "      <td>5450</td>\n",
              "      <td>510</td>\n",
              "      <td>0.0856</td>\n",
              "      <td>float64</td>\n",
              "      <td>[1.0, 0.0, nan, 2.0, 3.0, 5.0, 14.0, 10.0, 4.0...</td>\n",
              "      <td>17</td>\n",
              "      <td>discrete</td>\n",
              "      <td>Tree-based</td>\n",
              "    </tr>\n",
              "    <tr>\n",
              "      <th>CLAGE</th>\n",
              "      <td>5652</td>\n",
              "      <td>308</td>\n",
              "      <td>0.0517</td>\n",
              "      <td>float64</td>\n",
              "      <td>[94.366666667, 121.83333333, 149.46666667, nan...</td>\n",
              "      <td>5315</td>\n",
              "      <td>continuous-ratio</td>\n",
              "      <td>Tree-based</td>\n",
              "    </tr>\n",
              "    <tr>\n",
              "      <th>JOB</th>\n",
              "      <td>5681</td>\n",
              "      <td>279</td>\n",
              "      <td>0.0468</td>\n",
              "      <td>object</td>\n",
              "      <td>[Other, nan, Office, Sales, Mgr, ProfExe, Self]</td>\n",
              "      <td>7</td>\n",
              "      <td>nominal</td>\n",
              "      <td>Simple</td>\n",
              "    </tr>\n",
              "    <tr>\n",
              "      <th>REASON</th>\n",
              "      <td>5708</td>\n",
              "      <td>252</td>\n",
              "      <td>0.0423</td>\n",
              "      <td>object</td>\n",
              "      <td>[HomeImp, nan, DebtCon]</td>\n",
              "      <td>3</td>\n",
              "      <td>nominal</td>\n",
              "      <td>Simple</td>\n",
              "    </tr>\n",
              "    <tr>\n",
              "      <th>CLNO</th>\n",
              "      <td>5738</td>\n",
              "      <td>222</td>\n",
              "      <td>0.0372</td>\n",
              "      <td>float64</td>\n",
              "      <td>[9.0, 14.0, 10.0, nan, 8.0, 17.0, 12.0, 13.0, ...</td>\n",
              "      <td>63</td>\n",
              "      <td>discrete</td>\n",
              "      <td>Simple</td>\n",
              "    </tr>\n",
              "    <tr>\n",
              "      <th>VALUE</th>\n",
              "      <td>5848</td>\n",
              "      <td>112</td>\n",
              "      <td>0.0188</td>\n",
              "      <td>float64</td>\n",
              "      <td>[39025.0, 68400.0, 16700.0, nan, 112000.0, 403...</td>\n",
              "      <td>5382</td>\n",
              "      <td>continuous-ratio</td>\n",
              "      <td>Simple</td>\n",
              "    </tr>\n",
              "    <tr>\n",
              "      <th>BAD</th>\n",
              "      <td>5960</td>\n",
              "      <td>0</td>\n",
              "      <td>0.0000</td>\n",
              "      <td>int64</td>\n",
              "      <td>[1, 0]</td>\n",
              "      <td>2</td>\n",
              "      <td>nominal</td>\n",
              "      <td>Simple</td>\n",
              "    </tr>\n",
              "    <tr>\n",
              "      <th>LOAN</th>\n",
              "      <td>5960</td>\n",
              "      <td>0</td>\n",
              "      <td>0.0000</td>\n",
              "      <td>int64</td>\n",
              "      <td>[1100, 1300, 1500, 1700, 1800, 2000, 2100, 220...</td>\n",
              "      <td>540</td>\n",
              "      <td>continuous-ratio</td>\n",
              "      <td>Simple</td>\n",
              "    </tr>\n",
              "  </tbody>\n",
              "</table>\n",
              "</div>"
            ],
            "text/plain": [
              "          #_Total_Entry  #_Missing_Value  ...     variableTypes Missing_Elimination\n",
              "Variable                                  ...                                      \n",
              "DEBTINC            4693             1267  ...  continuous-ratio          Tree-based\n",
              "DEROG              5252              708  ...          discrete          Tree-based\n",
              "DELINQ             5380              580  ...          discrete          Tree-based\n",
              "MORTDUE            5442              518  ...  continuous-ratio          Tree-based\n",
              "YOJ                5445              515  ...          discrete          Tree-based\n",
              "NINQ               5450              510  ...          discrete          Tree-based\n",
              "CLAGE              5652              308  ...  continuous-ratio          Tree-based\n",
              "JOB                5681              279  ...           nominal              Simple\n",
              "REASON             5708              252  ...           nominal              Simple\n",
              "CLNO               5738              222  ...          discrete              Simple\n",
              "VALUE              5848              112  ...  continuous-ratio              Simple\n",
              "BAD                5960                0  ...           nominal              Simple\n",
              "LOAN               5960                0  ...  continuous-ratio              Simple\n",
              "\n",
              "[13 rows x 8 columns]"
            ]
          },
          "metadata": {
            "tags": []
          },
          "execution_count": 25
        }
      ]
    },
    {
      "cell_type": "code",
      "metadata": {
        "id": "SaHIsswT6u-5",
        "colab_type": "code",
        "outputId": "8f16c14e-aca0-4e23-eb89-738419afd3d6",
        "colab": {
          "base_uri": "https://localhost:8080/",
          "height": 202
        }
      },
      "source": [
        "numerical_columns = list(data_analysis.loc[(data_analysis.loc[:,\"variableTypes\"]==\"discrete\") | (data_analysis.loc[:,\"variableTypes\"]==\"continuous-ratio\")].index)\n",
        "len(numerical_columns), numerical_columns"
      ],
      "execution_count": 26,
      "outputs": [
        {
          "output_type": "execute_result",
          "data": {
            "text/plain": [
              "(10,\n",
              " ['DEBTINC',\n",
              "  'DEROG',\n",
              "  'DELINQ',\n",
              "  'MORTDUE',\n",
              "  'YOJ',\n",
              "  'NINQ',\n",
              "  'CLAGE',\n",
              "  'CLNO',\n",
              "  'VALUE',\n",
              "  'LOAN'])"
            ]
          },
          "metadata": {
            "tags": []
          },
          "execution_count": 26
        }
      ]
    },
    {
      "cell_type": "code",
      "metadata": {
        "id": "eSBUj6VC8T6K",
        "colab_type": "code",
        "colab": {}
      },
      "source": [
        "def ZeroVarianceFinder(df, numerical_columns):\n",
        "  \n",
        "  import pandas as pd\n",
        "  import numpy as np\n",
        "\n",
        "  zerovariance_numerical_features=[]\n",
        "  for col in numerical_columns:\n",
        "      try:\n",
        "          if pd.DataFrame(df[col]).describe().loc['std'][0] == 0.00 or \\\n",
        "          np.isnan(pd.DataFrame(df[col]).describe().loc['std'][0]):\n",
        "              zerovariance_numerical_features.append(col)\n",
        "      except:\n",
        "          print(\"Error:\",col)\n",
        "  return zerovariance_numerical_features"
      ],
      "execution_count": 0,
      "outputs": []
    },
    {
      "cell_type": "code",
      "metadata": {
        "id": "ZrBcBRUu_AQd",
        "colab_type": "code",
        "outputId": "35c99709-eb32-482e-a1a9-4b3c4cf714af",
        "colab": {
          "base_uri": "https://localhost:8080/",
          "height": 34
        }
      },
      "source": [
        "zerovariance_numerical_features = ZeroVarianceFinder(data,numerical_columns)\n",
        "zerovariance_numerical_features"
      ],
      "execution_count": 28,
      "outputs": [
        {
          "output_type": "execute_result",
          "data": {
            "text/plain": [
              "[]"
            ]
          },
          "metadata": {
            "tags": []
          },
          "execution_count": 28
        }
      ]
    },
    {
      "cell_type": "code",
      "metadata": {
        "id": "zbaVYgjDMnvb",
        "colab_type": "code",
        "outputId": "77306519-0b95-4594-babd-62c9fe362ca9",
        "colab": {
          "base_uri": "https://localhost:8080/",
          "height": 34
        }
      },
      "source": [
        "import sklearn\n",
        "from sklearn.model_selection import train_test_split\n",
        "X=data.iloc[:,1:]\n",
        "y=data.iloc[:,0]\n",
        "X_train, X_test, y_train, y_test = train_test_split(X, y, test_size=0.30, random_state=42)\n",
        "print(X_train.shape, X_test.shape, y_train.shape, y_test.shape)"
      ],
      "execution_count": 29,
      "outputs": [
        {
          "output_type": "stream",
          "text": [
            "(4172, 12) (1788, 12) (4172,) (1788,)\n"
          ],
          "name": "stdout"
        }
      ]
    },
    {
      "cell_type": "code",
      "metadata": {
        "id": "H1BI42l3QGW5",
        "colab_type": "code",
        "outputId": "8424cf52-1b5d-429d-e2d8-6f4221eba1f7",
        "colab": {
          "base_uri": "https://localhost:8080/",
          "height": 168
        }
      },
      "source": [
        "data[\"CLAGE\"].describe()"
      ],
      "execution_count": 30,
      "outputs": [
        {
          "output_type": "execute_result",
          "data": {
            "text/plain": [
              "count    5652.000000\n",
              "mean      179.766275\n",
              "std        85.810092\n",
              "min         0.000000\n",
              "25%       115.116702\n",
              "50%       173.466667\n",
              "75%       231.562278\n",
              "max      1168.233561\n",
              "Name: CLAGE, dtype: float64"
            ]
          },
          "metadata": {
            "tags": []
          },
          "execution_count": 30
        }
      ]
    },
    {
      "cell_type": "code",
      "metadata": {
        "id": "RVv9eoBJOwCb",
        "colab_type": "code",
        "outputId": "82763170-16f2-4033-ad05-e332c6dc07f7",
        "colab": {
          "base_uri": "https://localhost:8080/",
          "height": 34
        }
      },
      "source": [
        "q1 = data[\"LOAN\"].describe().loc[\"25%\"]\n",
        "\n",
        "q3 = data[\"LOAN\"].describe().loc[\"75%\"]\n",
        "q1, q3"
      ],
      "execution_count": 31,
      "outputs": [
        {
          "output_type": "execute_result",
          "data": {
            "text/plain": [
              "(11100.0, 23300.0)"
            ]
          },
          "metadata": {
            "tags": []
          },
          "execution_count": 31
        }
      ]
    },
    {
      "cell_type": "code",
      "metadata": {
        "id": "_xvgbY_GPMpk",
        "colab_type": "code",
        "outputId": "b9515336-d155-41d2-f19f-fffcb42bb753",
        "colab": {
          "base_uri": "https://localhost:8080/",
          "height": 34
        }
      },
      "source": [
        "iqr = q3 - q1\n",
        "iqr"
      ],
      "execution_count": 32,
      "outputs": [
        {
          "output_type": "execute_result",
          "data": {
            "text/plain": [
              "12200.0"
            ]
          },
          "metadata": {
            "tags": []
          },
          "execution_count": 32
        }
      ]
    },
    {
      "cell_type": "code",
      "metadata": {
        "id": "_5M7fNv3PR_G",
        "colab_type": "code",
        "outputId": "5d987877-d7f6-44cc-c5d1-52eb67d1f3b2",
        "colab": {
          "base_uri": "https://localhost:8080/",
          "height": 34
        }
      },
      "source": [
        "lower_bound = q1 -(1.5 * iqr) \n",
        "upper_bound = q3 +(1.5 * iqr) \n",
        "lower_bound, upper_bound"
      ],
      "execution_count": 33,
      "outputs": [
        {
          "output_type": "execute_result",
          "data": {
            "text/plain": [
              "(-7200.0, 41600.0)"
            ]
          },
          "metadata": {
            "tags": []
          },
          "execution_count": 33
        }
      ]
    },
    {
      "cell_type": "code",
      "metadata": {
        "id": "Ve44UsITPs-H",
        "colab_type": "code",
        "outputId": "8a705071-be02-460d-8737-657c9ad1b83d",
        "colab": {
          "base_uri": "https://localhost:8080/",
          "height": 168
        }
      },
      "source": [
        "data[\"LOAN\"].describe()"
      ],
      "execution_count": 34,
      "outputs": [
        {
          "output_type": "execute_result",
          "data": {
            "text/plain": [
              "count     5960.000000\n",
              "mean     18607.969799\n",
              "std      11207.480417\n",
              "min       1100.000000\n",
              "25%      11100.000000\n",
              "50%      16300.000000\n",
              "75%      23300.000000\n",
              "max      89900.000000\n",
              "Name: LOAN, dtype: float64"
            ]
          },
          "metadata": {
            "tags": []
          },
          "execution_count": 34
        }
      ]
    },
    {
      "cell_type": "code",
      "metadata": {
        "id": "yYu2VnMMTmHv",
        "colab_type": "code",
        "outputId": "81427d59-9025-43c8-a5d4-d8e4132af0cc",
        "colab": {
          "base_uri": "https://localhost:8080/",
          "height": 185
        }
      },
      "source": [
        "iqr_dic={}\n",
        "for i in numerical_columns:\n",
        "  q1 = data[i].describe().loc[\"25%\"]\n",
        "  q3 = data[i].describe().loc[\"75%\"]\n",
        "  iqr = q3 - q1\n",
        "  iqr_dic[i]=(iqr,)\n",
        "  lower_bound = q1 -(1.5 * iqr) \n",
        "  upper_bound = q3 +(1.5 * iqr) \n",
        "  lower_bound, upper_bound\n",
        "  iqr_dic[i]=(iqr,lower_bound, upper_bound)\n",
        "iqr_dic"
      ],
      "execution_count": 35,
      "outputs": [
        {
          "output_type": "execute_result",
          "data": {
            "text/plain": [
              "{'CLAGE': (116.44557590999997, -59.55166163499993, 406.23064200499994),\n",
              " 'CLNO': (11.0, -1.5, 42.5),\n",
              " 'DEBTINC': (9.863109256000005, 14.345367487999992, 53.79780451200001),\n",
              " 'DELINQ': (0.0, 0.0, 0.0),\n",
              " 'DEROG': (0.0, 0.0, 0.0),\n",
              " 'LOAN': (12200.0, -7200.0, 41600.0),\n",
              " 'MORTDUE': (45212.0, -21542.0, 159306.0),\n",
              " 'NINQ': (2.0, -3.0, 5.0),\n",
              " 'VALUE': (53748.75, -14547.625, 200447.375),\n",
              " 'YOJ': (10.0, -12.0, 28.0)}"
            ]
          },
          "metadata": {
            "tags": []
          },
          "execution_count": 35
        }
      ]
    },
    {
      "cell_type": "code",
      "metadata": {
        "id": "R3_vUlaotp6n",
        "colab_type": "code",
        "outputId": "3deba7b0-9456-4bd2-dea5-f4bb786c0b53",
        "colab": {
          "base_uri": "https://localhost:8080/",
          "height": 70
        }
      },
      "source": [
        "nonzero_derog = data.iloc[data[\"DEROG\"].nonzero()]\n",
        "q1 = nonzero_derog[\"DEROG\"].describe().loc[\"25%\"]\n",
        "q3 = nonzero_derog[\"DEROG\"].describe().loc[\"75%\"]\n",
        "iqr = q3 - q1\n",
        "lower_bound = q1 -(1.5 * iqr) \n",
        "upper_bound = q3 +(1.5 * iqr) \n",
        "lower_bound, upper_bound\n",
        "iqr_dic['DEROG']=(iqr,lower_bound, upper_bound)"
      ],
      "execution_count": 36,
      "outputs": [
        {
          "output_type": "stream",
          "text": [
            "/usr/local/lib/python3.6/dist-packages/ipykernel_launcher.py:1: FutureWarning: Series.nonzero() is deprecated and will be removed in a future version.Use Series.to_numpy().nonzero() instead\n",
            "  \"\"\"Entry point for launching an IPython kernel.\n"
          ],
          "name": "stderr"
        }
      ]
    },
    {
      "cell_type": "code",
      "metadata": {
        "id": "eXElR0z6tr3Y",
        "colab_type": "code",
        "outputId": "00d2f9e6-4016-4a0d-d8ba-bc673752f191",
        "colab": {
          "base_uri": "https://localhost:8080/",
          "height": 70
        }
      },
      "source": [
        "nonzero_derog = data.iloc[data[\"DELINQ\"].nonzero()]\n",
        "q1 = nonzero_derog[\"DELINQ\"].describe().loc[\"25%\"]\n",
        "q3 = nonzero_derog[\"DELINQ\"].describe().loc[\"75%\"]\n",
        "iqr = q3 - q1\n",
        "lower_bound = q1 -(1.5 * iqr) \n",
        "upper_bound = q3 +(1.5 * iqr) \n",
        "lower_bound, upper_bound\n",
        "iqr_dic['DELINQ']=(iqr,lower_bound, upper_bound)"
      ],
      "execution_count": 37,
      "outputs": [
        {
          "output_type": "stream",
          "text": [
            "/usr/local/lib/python3.6/dist-packages/ipykernel_launcher.py:1: FutureWarning: Series.nonzero() is deprecated and will be removed in a future version.Use Series.to_numpy().nonzero() instead\n",
            "  \"\"\"Entry point for launching an IPython kernel.\n"
          ],
          "name": "stderr"
        }
      ]
    },
    {
      "cell_type": "code",
      "metadata": {
        "id": "TT0Qlkl_tyIc",
        "colab_type": "code",
        "outputId": "1c8ab7e6-8d72-4507-b460-a5d2537621b2",
        "colab": {
          "base_uri": "https://localhost:8080/",
          "height": 185
        }
      },
      "source": [
        "iqr_dic"
      ],
      "execution_count": 38,
      "outputs": [
        {
          "output_type": "execute_result",
          "data": {
            "text/plain": [
              "{'CLAGE': (116.44557590999997, -59.55166163499993, 406.23064200499994),\n",
              " 'CLNO': (11.0, -1.5, 42.5),\n",
              " 'DEBTINC': (9.863109256000005, 14.345367487999992, 53.79780451200001),\n",
              " 'DELINQ': (1.0, -0.5, 3.5),\n",
              " 'DEROG': (1.0, -0.5, 3.5),\n",
              " 'LOAN': (12200.0, -7200.0, 41600.0),\n",
              " 'MORTDUE': (45212.0, -21542.0, 159306.0),\n",
              " 'NINQ': (2.0, -3.0, 5.0),\n",
              " 'VALUE': (53748.75, -14547.625, 200447.375),\n",
              " 'YOJ': (10.0, -12.0, 28.0)}"
            ]
          },
          "metadata": {
            "tags": []
          },
          "execution_count": 38
        }
      ]
    },
    {
      "cell_type": "code",
      "metadata": {
        "id": "tS4QsI5xYEfF",
        "colab_type": "code",
        "outputId": "8b127548-6277-4c14-ce39-52fc477b4fe7",
        "colab": {
          "base_uri": "https://localhost:8080/",
          "height": 284
        }
      },
      "source": [
        "data.describe()"
      ],
      "execution_count": 39,
      "outputs": [
        {
          "output_type": "execute_result",
          "data": {
            "text/html": [
              "<div>\n",
              "<style scoped>\n",
              "    .dataframe tbody tr th:only-of-type {\n",
              "        vertical-align: middle;\n",
              "    }\n",
              "\n",
              "    .dataframe tbody tr th {\n",
              "        vertical-align: top;\n",
              "    }\n",
              "\n",
              "    .dataframe thead th {\n",
              "        text-align: right;\n",
              "    }\n",
              "</style>\n",
              "<table border=\"1\" class=\"dataframe\">\n",
              "  <thead>\n",
              "    <tr style=\"text-align: right;\">\n",
              "      <th></th>\n",
              "      <th>BAD</th>\n",
              "      <th>LOAN</th>\n",
              "      <th>MORTDUE</th>\n",
              "      <th>VALUE</th>\n",
              "      <th>YOJ</th>\n",
              "      <th>DEROG</th>\n",
              "      <th>DELINQ</th>\n",
              "      <th>CLAGE</th>\n",
              "      <th>NINQ</th>\n",
              "      <th>CLNO</th>\n",
              "      <th>DEBTINC</th>\n",
              "    </tr>\n",
              "  </thead>\n",
              "  <tbody>\n",
              "    <tr>\n",
              "      <th>count</th>\n",
              "      <td>5960.000000</td>\n",
              "      <td>5960.000000</td>\n",
              "      <td>5442.000000</td>\n",
              "      <td>5848.000000</td>\n",
              "      <td>5445.000000</td>\n",
              "      <td>5252.000000</td>\n",
              "      <td>5380.000000</td>\n",
              "      <td>5652.000000</td>\n",
              "      <td>5450.000000</td>\n",
              "      <td>5738.000000</td>\n",
              "      <td>4693.000000</td>\n",
              "    </tr>\n",
              "    <tr>\n",
              "      <th>mean</th>\n",
              "      <td>0.199497</td>\n",
              "      <td>18607.969799</td>\n",
              "      <td>73760.817200</td>\n",
              "      <td>101776.048741</td>\n",
              "      <td>8.922268</td>\n",
              "      <td>0.254570</td>\n",
              "      <td>0.449442</td>\n",
              "      <td>179.766275</td>\n",
              "      <td>1.186055</td>\n",
              "      <td>21.296096</td>\n",
              "      <td>33.779915</td>\n",
              "    </tr>\n",
              "    <tr>\n",
              "      <th>std</th>\n",
              "      <td>0.399656</td>\n",
              "      <td>11207.480417</td>\n",
              "      <td>44457.609458</td>\n",
              "      <td>57385.775334</td>\n",
              "      <td>7.573982</td>\n",
              "      <td>0.846047</td>\n",
              "      <td>1.127266</td>\n",
              "      <td>85.810092</td>\n",
              "      <td>1.728675</td>\n",
              "      <td>10.138933</td>\n",
              "      <td>8.601746</td>\n",
              "    </tr>\n",
              "    <tr>\n",
              "      <th>min</th>\n",
              "      <td>0.000000</td>\n",
              "      <td>1100.000000</td>\n",
              "      <td>2063.000000</td>\n",
              "      <td>8000.000000</td>\n",
              "      <td>0.000000</td>\n",
              "      <td>0.000000</td>\n",
              "      <td>0.000000</td>\n",
              "      <td>0.000000</td>\n",
              "      <td>0.000000</td>\n",
              "      <td>0.000000</td>\n",
              "      <td>0.524499</td>\n",
              "    </tr>\n",
              "    <tr>\n",
              "      <th>25%</th>\n",
              "      <td>0.000000</td>\n",
              "      <td>11100.000000</td>\n",
              "      <td>46276.000000</td>\n",
              "      <td>66075.500000</td>\n",
              "      <td>3.000000</td>\n",
              "      <td>0.000000</td>\n",
              "      <td>0.000000</td>\n",
              "      <td>115.116702</td>\n",
              "      <td>0.000000</td>\n",
              "      <td>15.000000</td>\n",
              "      <td>29.140031</td>\n",
              "    </tr>\n",
              "    <tr>\n",
              "      <th>50%</th>\n",
              "      <td>0.000000</td>\n",
              "      <td>16300.000000</td>\n",
              "      <td>65019.000000</td>\n",
              "      <td>89235.500000</td>\n",
              "      <td>7.000000</td>\n",
              "      <td>0.000000</td>\n",
              "      <td>0.000000</td>\n",
              "      <td>173.466667</td>\n",
              "      <td>1.000000</td>\n",
              "      <td>20.000000</td>\n",
              "      <td>34.818262</td>\n",
              "    </tr>\n",
              "    <tr>\n",
              "      <th>75%</th>\n",
              "      <td>0.000000</td>\n",
              "      <td>23300.000000</td>\n",
              "      <td>91488.000000</td>\n",
              "      <td>119824.250000</td>\n",
              "      <td>13.000000</td>\n",
              "      <td>0.000000</td>\n",
              "      <td>0.000000</td>\n",
              "      <td>231.562278</td>\n",
              "      <td>2.000000</td>\n",
              "      <td>26.000000</td>\n",
              "      <td>39.003141</td>\n",
              "    </tr>\n",
              "    <tr>\n",
              "      <th>max</th>\n",
              "      <td>1.000000</td>\n",
              "      <td>89900.000000</td>\n",
              "      <td>399550.000000</td>\n",
              "      <td>855909.000000</td>\n",
              "      <td>41.000000</td>\n",
              "      <td>10.000000</td>\n",
              "      <td>15.000000</td>\n",
              "      <td>1168.233561</td>\n",
              "      <td>17.000000</td>\n",
              "      <td>71.000000</td>\n",
              "      <td>203.312149</td>\n",
              "    </tr>\n",
              "  </tbody>\n",
              "</table>\n",
              "</div>"
            ],
            "text/plain": [
              "               BAD          LOAN  ...         CLNO      DEBTINC\n",
              "count  5960.000000   5960.000000  ...  5738.000000  4693.000000\n",
              "mean      0.199497  18607.969799  ...    21.296096    33.779915\n",
              "std       0.399656  11207.480417  ...    10.138933     8.601746\n",
              "min       0.000000   1100.000000  ...     0.000000     0.524499\n",
              "25%       0.000000  11100.000000  ...    15.000000    29.140031\n",
              "50%       0.000000  16300.000000  ...    20.000000    34.818262\n",
              "75%       0.000000  23300.000000  ...    26.000000    39.003141\n",
              "max       1.000000  89900.000000  ...    71.000000   203.312149\n",
              "\n",
              "[8 rows x 11 columns]"
            ]
          },
          "metadata": {
            "tags": []
          },
          "execution_count": 39
        }
      ]
    },
    {
      "cell_type": "code",
      "metadata": {
        "id": "FS4LDSDl0VyP",
        "colab_type": "code",
        "colab": {}
      },
      "source": [
        "continuous_ratios = [\"CLAGE\",\"DEBTINC\",\"MORTDUE\",\"LOAN\",\"VALUE\"]\n",
        "discretes = [\"CLNO\",\"DELINQ\",\"DEROG\",\"NINQ\",\"YOJ\"]"
      ],
      "execution_count": 0,
      "outputs": []
    },
    {
      "cell_type": "code",
      "metadata": {
        "id": "T-YKzWL9uEuK",
        "colab_type": "code",
        "outputId": "b868b8af-15cb-4ea4-b93e-04ded11bab4c",
        "colab": {
          "base_uri": "https://localhost:8080/",
          "height": 185
        }
      },
      "source": [
        "for col in numerical_columns:\n",
        "  if col in continuous_ratios:\n",
        "    for elts in range(5960):\n",
        "      if data[col][elts] > iqr_dic[col][2] :\n",
        "        data[col][elts] = iqr_dic[col][2] + iqr_dic[col][2]*10/100\n",
        "  elif col in discretes:\n",
        "    for elts in range(5960):\n",
        "      if data[col][elts] > iqr_dic[col][2] :\n",
        "        data[col][elts] = iqr_dic[col][2] + iqr_dic[col][2]*5/100\n"
      ],
      "execution_count": 41,
      "outputs": [
        {
          "output_type": "stream",
          "text": [
            "/usr/local/lib/python3.6/dist-packages/ipykernel_launcher.py:5: SettingWithCopyWarning: \n",
            "A value is trying to be set on a copy of a slice from a DataFrame\n",
            "\n",
            "See the caveats in the documentation: http://pandas.pydata.org/pandas-docs/stable/user_guide/indexing.html#returning-a-view-versus-a-copy\n",
            "  \"\"\"\n",
            "/usr/local/lib/python3.6/dist-packages/ipykernel_launcher.py:9: SettingWithCopyWarning: \n",
            "A value is trying to be set on a copy of a slice from a DataFrame\n",
            "\n",
            "See the caveats in the documentation: http://pandas.pydata.org/pandas-docs/stable/user_guide/indexing.html#returning-a-view-versus-a-copy\n",
            "  if __name__ == '__main__':\n"
          ],
          "name": "stderr"
        }
      ]
    },
    {
      "cell_type": "code",
      "metadata": {
        "id": "Ck-3xkuj0mI7",
        "colab_type": "code",
        "outputId": "9157ad84-f250-45bc-97d5-7864cf14b104",
        "colab": {
          "base_uri": "https://localhost:8080/",
          "height": 402
        }
      },
      "source": [
        "data"
      ],
      "execution_count": 42,
      "outputs": [
        {
          "output_type": "execute_result",
          "data": {
            "text/html": [
              "<div>\n",
              "<style scoped>\n",
              "    .dataframe tbody tr th:only-of-type {\n",
              "        vertical-align: middle;\n",
              "    }\n",
              "\n",
              "    .dataframe tbody tr th {\n",
              "        vertical-align: top;\n",
              "    }\n",
              "\n",
              "    .dataframe thead th {\n",
              "        text-align: right;\n",
              "    }\n",
              "</style>\n",
              "<table border=\"1\" class=\"dataframe\">\n",
              "  <thead>\n",
              "    <tr style=\"text-align: right;\">\n",
              "      <th></th>\n",
              "      <th>BAD</th>\n",
              "      <th>LOAN</th>\n",
              "      <th>MORTDUE</th>\n",
              "      <th>VALUE</th>\n",
              "      <th>REASON</th>\n",
              "      <th>JOB</th>\n",
              "      <th>YOJ</th>\n",
              "      <th>DEROG</th>\n",
              "      <th>DELINQ</th>\n",
              "      <th>CLAGE</th>\n",
              "      <th>NINQ</th>\n",
              "      <th>CLNO</th>\n",
              "      <th>DEBTINC</th>\n",
              "    </tr>\n",
              "  </thead>\n",
              "  <tbody>\n",
              "    <tr>\n",
              "      <th>0</th>\n",
              "      <td>1</td>\n",
              "      <td>1100</td>\n",
              "      <td>25860.0</td>\n",
              "      <td>39025.0</td>\n",
              "      <td>HomeImp</td>\n",
              "      <td>Other</td>\n",
              "      <td>10.5</td>\n",
              "      <td>0.0</td>\n",
              "      <td>0.0</td>\n",
              "      <td>94.366667</td>\n",
              "      <td>1.0</td>\n",
              "      <td>9.0</td>\n",
              "      <td>NaN</td>\n",
              "    </tr>\n",
              "    <tr>\n",
              "      <th>1</th>\n",
              "      <td>1</td>\n",
              "      <td>1300</td>\n",
              "      <td>70053.0</td>\n",
              "      <td>68400.0</td>\n",
              "      <td>HomeImp</td>\n",
              "      <td>Other</td>\n",
              "      <td>7.0</td>\n",
              "      <td>0.0</td>\n",
              "      <td>2.0</td>\n",
              "      <td>121.833333</td>\n",
              "      <td>0.0</td>\n",
              "      <td>14.0</td>\n",
              "      <td>NaN</td>\n",
              "    </tr>\n",
              "    <tr>\n",
              "      <th>2</th>\n",
              "      <td>1</td>\n",
              "      <td>1500</td>\n",
              "      <td>13500.0</td>\n",
              "      <td>16700.0</td>\n",
              "      <td>HomeImp</td>\n",
              "      <td>Other</td>\n",
              "      <td>4.0</td>\n",
              "      <td>0.0</td>\n",
              "      <td>0.0</td>\n",
              "      <td>149.466667</td>\n",
              "      <td>1.0</td>\n",
              "      <td>10.0</td>\n",
              "      <td>NaN</td>\n",
              "    </tr>\n",
              "    <tr>\n",
              "      <th>3</th>\n",
              "      <td>1</td>\n",
              "      <td>1500</td>\n",
              "      <td>NaN</td>\n",
              "      <td>NaN</td>\n",
              "      <td>NaN</td>\n",
              "      <td>NaN</td>\n",
              "      <td>NaN</td>\n",
              "      <td>NaN</td>\n",
              "      <td>NaN</td>\n",
              "      <td>NaN</td>\n",
              "      <td>NaN</td>\n",
              "      <td>NaN</td>\n",
              "      <td>NaN</td>\n",
              "    </tr>\n",
              "    <tr>\n",
              "      <th>4</th>\n",
              "      <td>0</td>\n",
              "      <td>1700</td>\n",
              "      <td>97800.0</td>\n",
              "      <td>112000.0</td>\n",
              "      <td>HomeImp</td>\n",
              "      <td>Office</td>\n",
              "      <td>3.0</td>\n",
              "      <td>0.0</td>\n",
              "      <td>0.0</td>\n",
              "      <td>93.333333</td>\n",
              "      <td>0.0</td>\n",
              "      <td>14.0</td>\n",
              "      <td>NaN</td>\n",
              "    </tr>\n",
              "    <tr>\n",
              "      <th>...</th>\n",
              "      <td>...</td>\n",
              "      <td>...</td>\n",
              "      <td>...</td>\n",
              "      <td>...</td>\n",
              "      <td>...</td>\n",
              "      <td>...</td>\n",
              "      <td>...</td>\n",
              "      <td>...</td>\n",
              "      <td>...</td>\n",
              "      <td>...</td>\n",
              "      <td>...</td>\n",
              "      <td>...</td>\n",
              "      <td>...</td>\n",
              "    </tr>\n",
              "    <tr>\n",
              "      <th>5955</th>\n",
              "      <td>0</td>\n",
              "      <td>45760</td>\n",
              "      <td>57264.0</td>\n",
              "      <td>90185.0</td>\n",
              "      <td>DebtCon</td>\n",
              "      <td>Other</td>\n",
              "      <td>16.0</td>\n",
              "      <td>0.0</td>\n",
              "      <td>0.0</td>\n",
              "      <td>221.808718</td>\n",
              "      <td>0.0</td>\n",
              "      <td>16.0</td>\n",
              "      <td>36.112347</td>\n",
              "    </tr>\n",
              "    <tr>\n",
              "      <th>5956</th>\n",
              "      <td>0</td>\n",
              "      <td>45760</td>\n",
              "      <td>54576.0</td>\n",
              "      <td>92937.0</td>\n",
              "      <td>DebtCon</td>\n",
              "      <td>Other</td>\n",
              "      <td>16.0</td>\n",
              "      <td>0.0</td>\n",
              "      <td>0.0</td>\n",
              "      <td>208.692070</td>\n",
              "      <td>0.0</td>\n",
              "      <td>15.0</td>\n",
              "      <td>35.859971</td>\n",
              "    </tr>\n",
              "    <tr>\n",
              "      <th>5957</th>\n",
              "      <td>0</td>\n",
              "      <td>45760</td>\n",
              "      <td>54045.0</td>\n",
              "      <td>92924.0</td>\n",
              "      <td>DebtCon</td>\n",
              "      <td>Other</td>\n",
              "      <td>15.0</td>\n",
              "      <td>0.0</td>\n",
              "      <td>0.0</td>\n",
              "      <td>212.279697</td>\n",
              "      <td>0.0</td>\n",
              "      <td>15.0</td>\n",
              "      <td>35.556590</td>\n",
              "    </tr>\n",
              "    <tr>\n",
              "      <th>5958</th>\n",
              "      <td>0</td>\n",
              "      <td>45760</td>\n",
              "      <td>50370.0</td>\n",
              "      <td>91861.0</td>\n",
              "      <td>DebtCon</td>\n",
              "      <td>Other</td>\n",
              "      <td>14.0</td>\n",
              "      <td>0.0</td>\n",
              "      <td>0.0</td>\n",
              "      <td>213.892709</td>\n",
              "      <td>0.0</td>\n",
              "      <td>16.0</td>\n",
              "      <td>34.340882</td>\n",
              "    </tr>\n",
              "    <tr>\n",
              "      <th>5959</th>\n",
              "      <td>0</td>\n",
              "      <td>45760</td>\n",
              "      <td>48811.0</td>\n",
              "      <td>88934.0</td>\n",
              "      <td>DebtCon</td>\n",
              "      <td>Other</td>\n",
              "      <td>15.0</td>\n",
              "      <td>0.0</td>\n",
              "      <td>0.0</td>\n",
              "      <td>219.601002</td>\n",
              "      <td>0.0</td>\n",
              "      <td>16.0</td>\n",
              "      <td>34.571519</td>\n",
              "    </tr>\n",
              "  </tbody>\n",
              "</table>\n",
              "<p>5960 rows × 13 columns</p>\n",
              "</div>"
            ],
            "text/plain": [
              "      BAD   LOAN  MORTDUE     VALUE  ...       CLAGE NINQ  CLNO    DEBTINC\n",
              "0       1   1100  25860.0   39025.0  ...   94.366667  1.0   9.0        NaN\n",
              "1       1   1300  70053.0   68400.0  ...  121.833333  0.0  14.0        NaN\n",
              "2       1   1500  13500.0   16700.0  ...  149.466667  1.0  10.0        NaN\n",
              "3       1   1500      NaN       NaN  ...         NaN  NaN   NaN        NaN\n",
              "4       0   1700  97800.0  112000.0  ...   93.333333  0.0  14.0        NaN\n",
              "...   ...    ...      ...       ...  ...         ...  ...   ...        ...\n",
              "5955    0  45760  57264.0   90185.0  ...  221.808718  0.0  16.0  36.112347\n",
              "5956    0  45760  54576.0   92937.0  ...  208.692070  0.0  15.0  35.859971\n",
              "5957    0  45760  54045.0   92924.0  ...  212.279697  0.0  15.0  35.556590\n",
              "5958    0  45760  50370.0   91861.0  ...  213.892709  0.0  16.0  34.340882\n",
              "5959    0  45760  48811.0   88934.0  ...  219.601002  0.0  16.0  34.571519\n",
              "\n",
              "[5960 rows x 13 columns]"
            ]
          },
          "metadata": {
            "tags": []
          },
          "execution_count": 42
        }
      ]
    },
    {
      "cell_type": "code",
      "metadata": {
        "id": "7n-2jZED2QdM",
        "colab_type": "code",
        "colab": {}
      },
      "source": [
        "categorical_columns = ['JOB', 'REASON', 'BAD']"
      ],
      "execution_count": 0,
      "outputs": []
    },
    {
      "cell_type": "code",
      "metadata": {
        "id": "1padbje02dof",
        "colab_type": "code",
        "outputId": "fbb0563d-7210-49d3-dcb5-069f4b8e12d1",
        "colab": {
          "base_uri": "https://localhost:8080/",
          "height": 185
        }
      },
      "source": [
        "numerical_columns"
      ],
      "execution_count": 44,
      "outputs": [
        {
          "output_type": "execute_result",
          "data": {
            "text/plain": [
              "['DEBTINC',\n",
              " 'DEROG',\n",
              " 'DELINQ',\n",
              " 'MORTDUE',\n",
              " 'YOJ',\n",
              " 'NINQ',\n",
              " 'CLAGE',\n",
              " 'CLNO',\n",
              " 'VALUE',\n",
              " 'LOAN']"
            ]
          },
          "metadata": {
            "tags": []
          },
          "execution_count": 44
        }
      ]
    },
    {
      "cell_type": "code",
      "metadata": {
        "id": "rxcIxKeL1u-g",
        "colab_type": "code",
        "colab": {}
      },
      "source": [
        "from sklearn.impute import SimpleImputer\n",
        "\n",
        "def simpleImputer(df, col):\n",
        "    for raw in col:\n",
        "      if col in numerical_columns:\n",
        "          imputer = SimpleImputer(missing_values=np.nan, strategy='median')\n",
        "          imputer.fit_transform(df[col])\n",
        "\n",
        "      if col in categorical_columns:\n",
        "          imputer = SimpleImputer(missing_values=np.nan, strategy='most_frequent')\n",
        "          imputer.fit_transform(df[col])\n",
        "    \n",
        "    return df"
      ],
      "execution_count": 0,
      "outputs": []
    },
    {
      "cell_type": "code",
      "metadata": {
        "id": "8WINex7-1w2i",
        "colab_type": "code",
        "outputId": "06e605cf-544b-4e3d-8a28-8e931c5f23a7",
        "colab": {
          "base_uri": "https://localhost:8080/",
          "height": 402
        }
      },
      "source": [
        "simpleImputer(data, numerical_columns)"
      ],
      "execution_count": 46,
      "outputs": [
        {
          "output_type": "execute_result",
          "data": {
            "text/html": [
              "<div>\n",
              "<style scoped>\n",
              "    .dataframe tbody tr th:only-of-type {\n",
              "        vertical-align: middle;\n",
              "    }\n",
              "\n",
              "    .dataframe tbody tr th {\n",
              "        vertical-align: top;\n",
              "    }\n",
              "\n",
              "    .dataframe thead th {\n",
              "        text-align: right;\n",
              "    }\n",
              "</style>\n",
              "<table border=\"1\" class=\"dataframe\">\n",
              "  <thead>\n",
              "    <tr style=\"text-align: right;\">\n",
              "      <th></th>\n",
              "      <th>BAD</th>\n",
              "      <th>LOAN</th>\n",
              "      <th>MORTDUE</th>\n",
              "      <th>VALUE</th>\n",
              "      <th>REASON</th>\n",
              "      <th>JOB</th>\n",
              "      <th>YOJ</th>\n",
              "      <th>DEROG</th>\n",
              "      <th>DELINQ</th>\n",
              "      <th>CLAGE</th>\n",
              "      <th>NINQ</th>\n",
              "      <th>CLNO</th>\n",
              "      <th>DEBTINC</th>\n",
              "    </tr>\n",
              "  </thead>\n",
              "  <tbody>\n",
              "    <tr>\n",
              "      <th>0</th>\n",
              "      <td>1</td>\n",
              "      <td>1100</td>\n",
              "      <td>25860.0</td>\n",
              "      <td>39025.0</td>\n",
              "      <td>HomeImp</td>\n",
              "      <td>Other</td>\n",
              "      <td>10.5</td>\n",
              "      <td>0.0</td>\n",
              "      <td>0.0</td>\n",
              "      <td>94.366667</td>\n",
              "      <td>1.0</td>\n",
              "      <td>9.0</td>\n",
              "      <td>NaN</td>\n",
              "    </tr>\n",
              "    <tr>\n",
              "      <th>1</th>\n",
              "      <td>1</td>\n",
              "      <td>1300</td>\n",
              "      <td>70053.0</td>\n",
              "      <td>68400.0</td>\n",
              "      <td>HomeImp</td>\n",
              "      <td>Other</td>\n",
              "      <td>7.0</td>\n",
              "      <td>0.0</td>\n",
              "      <td>2.0</td>\n",
              "      <td>121.833333</td>\n",
              "      <td>0.0</td>\n",
              "      <td>14.0</td>\n",
              "      <td>NaN</td>\n",
              "    </tr>\n",
              "    <tr>\n",
              "      <th>2</th>\n",
              "      <td>1</td>\n",
              "      <td>1500</td>\n",
              "      <td>13500.0</td>\n",
              "      <td>16700.0</td>\n",
              "      <td>HomeImp</td>\n",
              "      <td>Other</td>\n",
              "      <td>4.0</td>\n",
              "      <td>0.0</td>\n",
              "      <td>0.0</td>\n",
              "      <td>149.466667</td>\n",
              "      <td>1.0</td>\n",
              "      <td>10.0</td>\n",
              "      <td>NaN</td>\n",
              "    </tr>\n",
              "    <tr>\n",
              "      <th>3</th>\n",
              "      <td>1</td>\n",
              "      <td>1500</td>\n",
              "      <td>NaN</td>\n",
              "      <td>NaN</td>\n",
              "      <td>NaN</td>\n",
              "      <td>NaN</td>\n",
              "      <td>NaN</td>\n",
              "      <td>NaN</td>\n",
              "      <td>NaN</td>\n",
              "      <td>NaN</td>\n",
              "      <td>NaN</td>\n",
              "      <td>NaN</td>\n",
              "      <td>NaN</td>\n",
              "    </tr>\n",
              "    <tr>\n",
              "      <th>4</th>\n",
              "      <td>0</td>\n",
              "      <td>1700</td>\n",
              "      <td>97800.0</td>\n",
              "      <td>112000.0</td>\n",
              "      <td>HomeImp</td>\n",
              "      <td>Office</td>\n",
              "      <td>3.0</td>\n",
              "      <td>0.0</td>\n",
              "      <td>0.0</td>\n",
              "      <td>93.333333</td>\n",
              "      <td>0.0</td>\n",
              "      <td>14.0</td>\n",
              "      <td>NaN</td>\n",
              "    </tr>\n",
              "    <tr>\n",
              "      <th>...</th>\n",
              "      <td>...</td>\n",
              "      <td>...</td>\n",
              "      <td>...</td>\n",
              "      <td>...</td>\n",
              "      <td>...</td>\n",
              "      <td>...</td>\n",
              "      <td>...</td>\n",
              "      <td>...</td>\n",
              "      <td>...</td>\n",
              "      <td>...</td>\n",
              "      <td>...</td>\n",
              "      <td>...</td>\n",
              "      <td>...</td>\n",
              "    </tr>\n",
              "    <tr>\n",
              "      <th>5955</th>\n",
              "      <td>0</td>\n",
              "      <td>45760</td>\n",
              "      <td>57264.0</td>\n",
              "      <td>90185.0</td>\n",
              "      <td>DebtCon</td>\n",
              "      <td>Other</td>\n",
              "      <td>16.0</td>\n",
              "      <td>0.0</td>\n",
              "      <td>0.0</td>\n",
              "      <td>221.808718</td>\n",
              "      <td>0.0</td>\n",
              "      <td>16.0</td>\n",
              "      <td>36.112347</td>\n",
              "    </tr>\n",
              "    <tr>\n",
              "      <th>5956</th>\n",
              "      <td>0</td>\n",
              "      <td>45760</td>\n",
              "      <td>54576.0</td>\n",
              "      <td>92937.0</td>\n",
              "      <td>DebtCon</td>\n",
              "      <td>Other</td>\n",
              "      <td>16.0</td>\n",
              "      <td>0.0</td>\n",
              "      <td>0.0</td>\n",
              "      <td>208.692070</td>\n",
              "      <td>0.0</td>\n",
              "      <td>15.0</td>\n",
              "      <td>35.859971</td>\n",
              "    </tr>\n",
              "    <tr>\n",
              "      <th>5957</th>\n",
              "      <td>0</td>\n",
              "      <td>45760</td>\n",
              "      <td>54045.0</td>\n",
              "      <td>92924.0</td>\n",
              "      <td>DebtCon</td>\n",
              "      <td>Other</td>\n",
              "      <td>15.0</td>\n",
              "      <td>0.0</td>\n",
              "      <td>0.0</td>\n",
              "      <td>212.279697</td>\n",
              "      <td>0.0</td>\n",
              "      <td>15.0</td>\n",
              "      <td>35.556590</td>\n",
              "    </tr>\n",
              "    <tr>\n",
              "      <th>5958</th>\n",
              "      <td>0</td>\n",
              "      <td>45760</td>\n",
              "      <td>50370.0</td>\n",
              "      <td>91861.0</td>\n",
              "      <td>DebtCon</td>\n",
              "      <td>Other</td>\n",
              "      <td>14.0</td>\n",
              "      <td>0.0</td>\n",
              "      <td>0.0</td>\n",
              "      <td>213.892709</td>\n",
              "      <td>0.0</td>\n",
              "      <td>16.0</td>\n",
              "      <td>34.340882</td>\n",
              "    </tr>\n",
              "    <tr>\n",
              "      <th>5959</th>\n",
              "      <td>0</td>\n",
              "      <td>45760</td>\n",
              "      <td>48811.0</td>\n",
              "      <td>88934.0</td>\n",
              "      <td>DebtCon</td>\n",
              "      <td>Other</td>\n",
              "      <td>15.0</td>\n",
              "      <td>0.0</td>\n",
              "      <td>0.0</td>\n",
              "      <td>219.601002</td>\n",
              "      <td>0.0</td>\n",
              "      <td>16.0</td>\n",
              "      <td>34.571519</td>\n",
              "    </tr>\n",
              "  </tbody>\n",
              "</table>\n",
              "<p>5960 rows × 13 columns</p>\n",
              "</div>"
            ],
            "text/plain": [
              "      BAD   LOAN  MORTDUE     VALUE  ...       CLAGE NINQ  CLNO    DEBTINC\n",
              "0       1   1100  25860.0   39025.0  ...   94.366667  1.0   9.0        NaN\n",
              "1       1   1300  70053.0   68400.0  ...  121.833333  0.0  14.0        NaN\n",
              "2       1   1500  13500.0   16700.0  ...  149.466667  1.0  10.0        NaN\n",
              "3       1   1500      NaN       NaN  ...         NaN  NaN   NaN        NaN\n",
              "4       0   1700  97800.0  112000.0  ...   93.333333  0.0  14.0        NaN\n",
              "...   ...    ...      ...       ...  ...         ...  ...   ...        ...\n",
              "5955    0  45760  57264.0   90185.0  ...  221.808718  0.0  16.0  36.112347\n",
              "5956    0  45760  54576.0   92937.0  ...  208.692070  0.0  15.0  35.859971\n",
              "5957    0  45760  54045.0   92924.0  ...  212.279697  0.0  15.0  35.556590\n",
              "5958    0  45760  50370.0   91861.0  ...  213.892709  0.0  16.0  34.340882\n",
              "5959    0  45760  48811.0   88934.0  ...  219.601002  0.0  16.0  34.571519\n",
              "\n",
              "[5960 rows x 13 columns]"
            ]
          },
          "metadata": {
            "tags": []
          },
          "execution_count": 46
        }
      ]
    }
  ]
}